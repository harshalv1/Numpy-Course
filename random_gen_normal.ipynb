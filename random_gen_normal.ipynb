{
 "cells": [
  {
   "cell_type": "code",
   "execution_count": 3,
   "id": "85d32fd9-05e2-4332-9051-fbb2ce948ed5",
   "metadata": {},
   "outputs": [],
   "source": [
    "import numpy as np"
   ]
  },
  {
   "cell_type": "code",
   "execution_count": 5,
   "id": "e4a73cba-cc00-4dc2-8dcb-87ad9ad84322",
   "metadata": {},
   "outputs": [],
   "source": [
    "from numpy.random import Generator as gen\n",
    "from numpy.random import PCG64 as pcg"
   ]
  },
  {
   "cell_type": "code",
   "execution_count": 13,
   "id": "3b2c8711-d086-4bb7-b43d-580b22976abf",
   "metadata": {},
   "outputs": [
    {
     "data": {
      "text/plain": [
       "-0.9741790569354726"
      ]
     },
     "execution_count": 13,
     "metadata": {},
     "output_type": "execute_result"
    }
   ],
   "source": [
    "#creates a generator object from the genertor class \n",
    "random_array=gen(pcg())\n",
    "random_array.normal()"
   ]
  },
  {
   "cell_type": "code",
   "execution_count": 19,
   "id": "eb38fe1b-e6fa-47b7-88b1-132e5c870ae6",
   "metadata": {},
   "outputs": [
    {
     "data": {
      "text/plain": [
       "array([-1.18563621, -0.88212221,  1.06508819, -0.16158707,  1.02626152])"
      ]
     },
     "execution_count": 19,
     "metadata": {},
     "output_type": "execute_result"
    }
   ],
   "source": [
    "#if we input a size then the randomly generated array will have that no of elements \n",
    "random_array.normal(size=5)"
   ]
  },
  {
   "cell_type": "code",
   "execution_count": 21,
   "id": "9adf8ac8-b2d2-421c-aa33-06e91b12ae6d",
   "metadata": {},
   "outputs": [
    {
     "data": {
      "text/plain": [
       "array([[-1.80993905, -0.52402902, -0.2344765 ],\n",
       "       [-0.84323478,  0.81365066, -1.19248701],\n",
       "       [-1.03631962,  0.16912768,  0.80986271]])"
      ]
     },
     "execution_count": 21,
     "metadata": {},
     "output_type": "execute_result"
    }
   ],
   "source": [
    "#if we input size as a tuple the shape of the array would be the size entered\n",
    "random_array.normal(size=(3,3))"
   ]
  },
  {
   "cell_type": "code",
   "execution_count": 32,
   "id": "15db326a-77b3-47f8-b3c8-83ae2a42aff2",
   "metadata": {},
   "outputs": [
    {
     "data": {
      "text/plain": [
       "array([[-0.80193143, -1.324359  , -0.24836162],\n",
       "       [ 0.42044524,  1.13604653,  0.1097064 ],\n",
       "       [-0.55264732, -0.78478036,  0.74874577]])"
      ]
     },
     "execution_count": 32,
     "metadata": {},
     "output_type": "execute_result"
    }
   ],
   "source": [
    "#if we assign a seed value then we would have the same randomly generated values eveytime \n",
    "ramdom_array=gen(pcg(seed=5))\n",
    "ramdom_array.normal(size=(3,3))"
   ]
  },
  {
   "cell_type": "code",
   "execution_count": 36,
   "id": "a7bc71e9-8c6c-4978-b4b3-61c9ee7d3489",
   "metadata": {},
   "outputs": [
    {
     "data": {
      "text/plain": [
       "array([[ 1.63478304,  0.27276878, -1.23332866],\n",
       "       [-0.95826521,  1.60001909,  0.20288244],\n",
       "       [-1.73213484, -0.08369619, -1.16322597]])"
      ]
     },
     "execution_count": 36,
     "metadata": {},
     "output_type": "execute_result"
    }
   ],
   "source": [
    "#The seed only lasts for one execution and is hence reset in this cell.\n",
    "ramdom_array.normal(size=(3,3))"
   ]
  },
  {
   "cell_type": "code",
   "execution_count": 38,
   "id": "dbb8f93b-b7ab-4724-9725-b8c67cf02a48",
   "metadata": {},
   "outputs": [
    {
     "data": {
      "text/plain": [
       "array([[5, 4, 2],\n",
       "       [1, 4, 4],\n",
       "       [5, 5, 3]])"
      ]
     },
     "execution_count": 38,
     "metadata": {},
     "output_type": "execute_result"
    }
   ],
   "source": [
    "#choice function chooses from given values\n",
    "random_array.choice([1,2,3,4,5],size=(3,3))"
   ]
  },
  {
   "cell_type": "code",
   "execution_count": 42,
   "id": "dec2c670-43f8-4b47-a93d-6d9674ba9278",
   "metadata": {},
   "outputs": [
    {
     "data": {
      "text/plain": [
       "array([[5, 5, 4],\n",
       "       [5, 5, 5],\n",
       "       [5, 2, 5]])"
      ]
     },
     "execution_count": 42,
     "metadata": {},
     "output_type": "execute_result"
    }
   ],
   "source": [
    "#we can also assign \n",
    "random_array.choice([1,2,3,4,5],p=[0.1,0.1,0.1,0.1,0.6],size=(3,3))"
   ]
  }
 ],
 "metadata": {
  "kernelspec": {
   "display_name": "Python 3 (ipykernel)",
   "language": "python",
   "name": "python3"
  },
  "language_info": {
   "codemirror_mode": {
    "name": "ipython",
    "version": 3
   },
   "file_extension": ".py",
   "mimetype": "text/x-python",
   "name": "python",
   "nbconvert_exporter": "python",
   "pygments_lexer": "ipython3",
   "version": "3.12.3"
  }
 },
 "nbformat": 4,
 "nbformat_minor": 5
}
