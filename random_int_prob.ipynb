{
 "cells": [
  {
   "cell_type": "code",
   "execution_count": 1,
   "id": "92479359-fbd1-472b-a125-d55100146188",
   "metadata": {},
   "outputs": [],
   "source": [
    "import numpy as np\n",
    "from numpy.random import Generator as gen\n",
    "from numpy.random import PCG64 as pcg"
   ]
  },
  {
   "cell_type": "code",
   "execution_count": 9,
   "id": "01fe61dd-f0a7-4d17-9440-16957b9263e1",
   "metadata": {},
   "outputs": [
    {
     "data": {
      "text/plain": [
       "array([[-0.80193143, -1.324359  , -0.24836162],\n",
       "       [ 0.42044524,  1.13604653,  0.1097064 ],\n",
       "       [-0.55264732, -0.78478036,  0.74874577]])"
      ]
     },
     "execution_count": 9,
     "metadata": {},
     "output_type": "execute_result"
    }
   ],
   "source": [
    "array_rg=gen(pcg(seed=5))\n",
    "array_rg.normal(size=(3,3))"
   ]
  },
  {
   "cell_type": "code",
   "execution_count": 13,
   "id": "c390189b-94e0-4a4f-b313-bf37163f38e9",
   "metadata": {},
   "outputs": [
    {
     "data": {
      "text/plain": [
       "array([[1, 9, 1],\n",
       "       [6, 7, 2],\n",
       "       [2, 4, 2]])"
      ]
     },
     "execution_count": 13,
     "metadata": {},
     "output_type": "execute_result"
    }
   ],
   "source": [
    "#Randomly generates integers for the said given range\n",
    "array_rg.integers(10,size=(3,3))"
   ]
  },
  {
   "cell_type": "code",
   "execution_count": 21,
   "id": "83e92da4-a961-42ed-b5dc-a7114632f364",
   "metadata": {},
   "outputs": [
    {
     "data": {
      "text/plain": [
       "array([[8, 2, 5],\n",
       "       [7, 5, 7],\n",
       "       [7, 7, 2]])"
      ]
     },
     "execution_count": 21,
     "metadata": {},
     "output_type": "execute_result"
    }
   ],
   "source": [
    "#we can also specify the low and high values between which the integers function will assign integers\n",
    "array_rg.integers(low=2,high=10,size=(3,3))"
   ]
  },
  {
   "cell_type": "code",
   "execution_count": 25,
   "id": "55015c48-d0b3-4c0d-9282-c0c6699a420d",
   "metadata": {},
   "outputs": [
    {
     "data": {
      "text/plain": [
       "array([[0.01851722, 0.70749557, 0.00119968],\n",
       "       [0.50336397, 0.43666705, 0.20325284],\n",
       "       [0.32494264, 0.80621533, 0.31645209]])"
      ]
     },
     "execution_count": 25,
     "metadata": {},
     "output_type": "execute_result"
    }
   ],
   "source": [
    "#Random function assigns probabilities which are always between 0 and 1\n",
    "array_rg.random(size=(3,3))"
   ]
  },
  {
   "cell_type": "code",
   "execution_count": null,
   "id": "59c44db0-a2e1-42e8-adab-778e2369112e",
   "metadata": {},
   "outputs": [],
   "source": []
  }
 ],
 "metadata": {
  "kernelspec": {
   "display_name": "Python 3 (ipykernel)",
   "language": "python",
   "name": "python3"
  },
  "language_info": {
   "codemirror_mode": {
    "name": "ipython",
    "version": 3
   },
   "file_extension": ".py",
   "mimetype": "text/x-python",
   "name": "python",
   "nbconvert_exporter": "python",
   "pygments_lexer": "ipython3",
   "version": "3.12.3"
  }
 },
 "nbformat": 4,
 "nbformat_minor": 5
}
