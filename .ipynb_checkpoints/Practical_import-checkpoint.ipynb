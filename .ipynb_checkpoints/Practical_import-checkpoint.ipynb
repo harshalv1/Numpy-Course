{
 "cells": [
  {
   "cell_type": "code",
   "execution_count": 150,
   "id": "f02a527c-9c3a-41cb-9d81-2639ec536eca",
   "metadata": {},
   "outputs": [],
   "source": [
    "import numpy as np\n",
    "\n",
    "np.set_printoptions(suppress=True,linewidth=100,precision=2)"
   ]
  },
  {
   "cell_type": "code",
   "execution_count": 178,
   "id": "e9da52fc-46c9-4e32-b3ae-80ddaa8b8ee0",
   "metadata": {},
   "outputs": [
    {
     "data": {
      "text/plain": [
       "array([[        nan,         nan,         nan, ...,         nan,         nan,         nan],\n",
       "       [48010226.  ,         nan,    35000.  , ...,         nan,         nan,     9452.96],\n",
       "       [57693261.  ,         nan,    30000.  , ...,         nan,         nan,     4679.7 ],\n",
       "       ...,\n",
       "       [50415990.  ,         nan,    10000.  , ...,         nan,         nan,     2185.64],\n",
       "       [46154151.  ,         nan,         nan, ...,         nan,         nan,     3199.4 ],\n",
       "       [66055249.  ,         nan,    10000.  , ...,         nan,         nan,      301.9 ]])"
      ]
     },
     "execution_count": 178,
     "metadata": {},
     "output_type": "execute_result"
    }
   ],
   "source": [
    "raw_data=np.genfromtxt(\"loan-data.csv\",delimiter=\";\", encoding='latin1')\n",
    "raw_data"
   ]
  },
  {
   "cell_type": "code",
   "execution_count": 154,
   "id": "28595168-ce05-4c78-92e8-e451b42305b8",
   "metadata": {},
   "outputs": [
    {
     "data": {
      "text/plain": [
       "array([[48010226.  ,         nan,    35000.  , ...,         nan,         nan,     9452.96],\n",
       "       [57693261.  ,         nan,    30000.  , ...,         nan,         nan,     4679.7 ],\n",
       "       [59432726.  ,         nan,    15000.  , ...,         nan,         nan,     1969.83],\n",
       "       ...,\n",
       "       [50415990.  ,         nan,    10000.  , ...,         nan,         nan,     2185.64],\n",
       "       [46154151.  ,         nan,         nan, ...,         nan,         nan,     3199.4 ],\n",
       "       [66055249.  ,         nan,    10000.  , ...,         nan,         nan,      301.9 ]])"
      ]
     },
     "execution_count": 154,
     "metadata": {},
     "output_type": "execute_result"
    }
   ],
   "source": [
    "raw_data=np.genfromtxt(\"loan-data.csv\",delimiter=\";\",encoding='latin1',skip_header=1 ,autostrip=True)\n",
    "raw_data"
   ]
  },
  {
   "cell_type": "code",
   "execution_count": 156,
   "id": "ff2e2787-8290-4022-8285-61600c328cd9",
   "metadata": {},
   "outputs": [
    {
     "data": {
      "text/plain": [
       "np.int64(88005)"
      ]
     },
     "execution_count": 156,
     "metadata": {},
     "output_type": "execute_result"
    }
   ],
   "source": [
    "np.isnan(raw_data).sum()"
   ]
  },
  {
   "cell_type": "code",
   "execution_count": 158,
   "id": "8c38de08-e0e4-4dfe-a459-19c2c8675c84",
   "metadata": {},
   "outputs": [
    {
     "name": "stderr",
     "output_type": "stream",
     "text": [
      "/var/folders/ml/q9fr3xdd28x7_k12s7w43pg80000gn/T/ipykernel_56061/646384096.py:2: RuntimeWarning: Mean of empty slice\n",
      "  temp_mean=np.nanmean(raw_data,axis=0).round(2)\n"
     ]
    },
    {
     "data": {
      "text/plain": [
       "array([54015809.19,         nan,    15273.46,         nan,    15311.04,         nan,       16.62,\n",
       "            440.92,         nan,         nan,         nan,         nan,         nan,     3143.85])"
      ]
     },
     "execution_count": 158,
     "metadata": {},
     "output_type": "execute_result"
    }
   ],
   "source": [
    "temp_fill=np.nanmax(raw_data)+1\n",
    "temp_mean=np.nanmean(raw_data,axis=0).round(2)\n",
    "\n",
    "temp_mean"
   ]
  },
  {
   "cell_type": "code",
   "execution_count": 160,
   "id": "3fcfeffe-cfee-48db-b202-3d7944f8e93c",
   "metadata": {},
   "outputs": [
    {
     "name": "stderr",
     "output_type": "stream",
     "text": [
      "/var/folders/ml/q9fr3xdd28x7_k12s7w43pg80000gn/T/ipykernel_56061/602528617.py:1: RuntimeWarning: All-NaN slice encountered\n",
      "  temp_stats=np.array([np.nanmax(raw_data,axis=0),temp_mean,np.nanmin(raw_data,axis=0)])\n"
     ]
    }
   ],
   "source": [
    "temp_stats=np.array([np.nanmax(raw_data,axis=0),temp_mean,np.nanmin(raw_data,axis=0)])"
   ]
  },
  {
   "cell_type": "code",
   "execution_count": 162,
   "id": "d5942916-f156-4682-8b9b-8ad7589fc4ed",
   "metadata": {},
   "outputs": [
    {
     "data": {
      "text/plain": [
       "array([ 1,  3,  5,  8,  9, 10, 11, 12])"
      ]
     },
     "execution_count": 162,
     "metadata": {},
     "output_type": "execute_result"
    }
   ],
   "source": [
    "string_columns=np.argwhere(np.isnan(temp_mean)).squeeze()\n",
    "string_columns"
   ]
  },
  {
   "cell_type": "code",
   "execution_count": 164,
   "id": "e7b99226-0f9a-4dd4-8e0f-5fed62fc946a",
   "metadata": {},
   "outputs": [
    {
     "data": {
      "text/plain": [
       "array([ 0,  2,  4,  6,  7, 13])"
      ]
     },
     "execution_count": 164,
     "metadata": {},
     "output_type": "execute_result"
    }
   ],
   "source": [
    "numeric_columns=np.argwhere(np.isnan(temp_mean)==False).squeeze()\n",
    "numeric_columns"
   ]
  },
  {
   "cell_type": "code",
   "execution_count": 172,
   "id": "a2e6cba8-6040-4480-9dc4-d16fd629ccb1",
   "metadata": {},
   "outputs": [
    {
     "data": {
      "text/plain": [
       "array([['May-15', 'Current', '36 months', ..., 'Verified',\n",
       "        'https://www.lendingclub.com/browse/loanDetail.action?loan_id=48010226', 'CA'],\n",
       "       ['', 'Current', '36 months', ..., 'Source Verified',\n",
       "        'https://www.lendingclub.com/browse/loanDetail.action?loan_id=57693261', 'NY'],\n",
       "       ['Sep-15', 'Current', '36 months', ..., 'Verified',\n",
       "        'https://www.lendingclub.com/browse/loanDetail.action?loan_id=59432726', 'PA'],\n",
       "       ...,\n",
       "       ['Jun-15', 'Current', '36 months', ..., 'Source Verified',\n",
       "        'https://www.lendingclub.com/browse/loanDetail.action?loan_id=50415990', 'CA'],\n",
       "       ['Apr-15', 'Current', '36 months', ..., 'Source Verified',\n",
       "        'https://www.lendingclub.com/browse/loanDetail.action?loan_id=46154151', 'OH'],\n",
       "       ['Dec-15', 'Current', '36 months', ..., '',\n",
       "        'https://www.lendingclub.com/browse/loanDetail.action?loan_id=66055249', 'IL']],\n",
       "      dtype='<U69')"
      ]
     },
     "execution_count": 172,
     "metadata": {},
     "output_type": "execute_result"
    }
   ],
   "source": [
    "loan_data_strings=np.genfromtxt(\"loan-data.csv\",delimiter=\";\",encoding='latin1',skip_header=1,autostrip=True,usecols=string_columns,dtype=str)\n",
    "loan_data_strings"
   ]
  },
  {
   "cell_type": "code",
   "execution_count": 180,
   "id": "c48b7752-fed6-4bd8-9c59-4c9f09a0a5b2",
   "metadata": {},
   "outputs": [
    {
     "data": {
      "text/plain": [
       "array([[48010226.  ,    35000.  ,    35000.  ,       13.33,     1184.86,     9452.96],\n",
       "       [57693261.  ,    30000.  ,    30000.  , 68616520.  ,      938.57,     4679.7 ],\n",
       "       [59432726.  ,    15000.  ,    15000.  , 68616520.  ,      494.86,     1969.83],\n",
       "       ...,\n",
       "       [50415990.  ,    10000.  ,    10000.  , 68616520.  , 68616520.  ,     2185.64],\n",
       "       [46154151.  , 68616520.  ,    10000.  ,       16.55,      354.3 ,     3199.4 ],\n",
       "       [66055249.  ,    10000.  ,    10000.  , 68616520.  ,      309.97,      301.9 ]])"
      ]
     },
     "execution_count": 180,
     "metadata": {},
     "output_type": "execute_result"
    }
   ],
   "source": [
    "loan_data_numeric=np.genfromtxt(\"loan-Data.csv\",delimiter=\";\",encoding='latin1',skip_header=1,autostrip=True,usecols=numeric_columns,filling_values=temp_fill)\n",
    "loan_data_numeric"
   ]
  },
  {
   "cell_type": "code",
   "execution_count": null,
   "id": "a6c5f165-33b1-47a5-aca6-ec2fa6c84655",
   "metadata": {},
   "outputs": [],
   "source": []
  }
 ],
 "metadata": {
  "kernelspec": {
   "display_name": "Python 3 (ipykernel)",
   "language": "python",
   "name": "python3"
  },
  "language_info": {
   "codemirror_mode": {
    "name": "ipython",
    "version": 3
   },
   "file_extension": ".py",
   "mimetype": "text/x-python",
   "name": "python",
   "nbconvert_exporter": "python",
   "pygments_lexer": "ipython3",
   "version": "3.12.3"
  }
 },
 "nbformat": 4,
 "nbformat_minor": 5
}
