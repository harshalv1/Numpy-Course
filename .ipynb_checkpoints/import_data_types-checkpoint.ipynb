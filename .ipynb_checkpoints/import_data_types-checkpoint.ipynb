{
 "cells": [
  {
   "cell_type": "code",
   "execution_count": 1,
   "id": "2a378e56-4d28-4608-a7f4-4257c8459b85",
   "metadata": {},
   "outputs": [],
   "source": [
    "import numpy as np"
   ]
  },
  {
   "cell_type": "code",
   "execution_count": 7,
   "id": "91cecaf1-a189-42d7-af36-8969a96076e3",
   "metadata": {},
   "outputs": [
    {
     "name": "stdout",
     "output_type": "stream",
     "text": [
      "[[      nan       nan       nan ...       nan       nan       nan]\n",
      " [1.000e+00       nan       nan ...       nan       nan 1.660e+04]\n",
      " [2.000e+00       nan       nan ...       nan       nan 1.660e+04]\n",
      " ...\n",
      " [1.041e+03       nan       nan ...       nan       nan 1.660e+04]\n",
      " [1.042e+03       nan       nan ...       nan       nan 1.560e+04]\n",
      " [1.043e+03       nan       nan ...       nan       nan 1.660e+04]]\n"
     ]
    }
   ],
   "source": [
    "#Print for better readability\n",
    "lending_co_lt_data=np.genfromtxt('Lending-co-LT.csv',delimiter=',')\n",
    "print(lending_co_lt_data)"
   ]
  },
  {
   "cell_type": "code",
   "execution_count": 9,
   "id": "556f5620-54ea-433d-a268-9618e87fd0ae",
   "metadata": {},
   "outputs": [
    {
     "name": "stdout",
     "output_type": "stream",
     "text": [
      "[[  -1   -1   -1 ...   -1   -1   -1]\n",
      " [   1   -1   -1 ...   -1   -1   -1]\n",
      " [   2   -1   -1 ...   -1   -1   -1]\n",
      " ...\n",
      " [1041   -1   -1 ...   -1   -1   -1]\n",
      " [1042   -1   -1 ...   -1   -1   -1]\n",
      " [1043   -1   -1 ...   -1   -1   -1]]\n"
     ]
    }
   ],
   "source": [
    "#The symobols get turned to -1. Cannot manipulate data well\n",
    "lending_co_lt_data=np.genfromtxt('Lending-co-LT.csv',delimiter=',',dtype=np.int64)\n",
    "print(lending_co_lt_data)"
   ]
  },
  {
   "cell_type": "code",
   "execution_count": 13,
   "id": "bf8bcf2e-10a6-4b85-82eb-27892a045747",
   "metadata": {},
   "outputs": [
    {
     "name": "stdout",
     "output_type": "stream",
     "text": [
      "[['LoanID' 'StringID' 'Product' ... 'Location' 'Region' 'TotalPrice']\n",
      " ['1' 'id_1' 'Product B' ... 'Location 2' 'Region 2' '16600.0']\n",
      " ['2' 'id_2' 'Product B' ... 'Location 3' '' '16600.0']\n",
      " ...\n",
      " ['1041' 'id_1041' 'Product B' ... 'Location 23' 'Region 4' '16600.0']\n",
      " ['1042' 'id_1042' 'Product C' ... 'Location 52' 'Region 6' '15600.0']\n",
      " ['1043' 'id_1043' 'Product B' ... 'Location 142' 'Region 6' '16600.0']]\n"
     ]
    }
   ],
   "source": [
    "#The no are actually containted within strings hence we can't perfrom mathematical operations.\n",
    "lending_co_lt_data=np.genfromtxt('Lending-co-LT.csv',delimiter=',',dtype=str)\n",
    "print(lending_co_lt_data)"
   ]
  },
  {
   "cell_type": "code",
   "execution_count": 15,
   "id": "ba7a84e9-d354-4c36-afaf-86a2932eca2d",
   "metadata": {},
   "outputs": [
    {
     "name": "stdout",
     "output_type": "stream",
     "text": [
      "[[b'LoanID' b'StringID' b'Product' ... b'Location' b'Region'\n",
      "  b'TotalPrice']\n",
      " [b'1' b'id_1' b'Product B' ... b'Location 2' b'Region 2' b'16600.0']\n",
      " [b'2' b'id_2' b'Product B' ... b'Location 3' b'' b'16600.0']\n",
      " ...\n",
      " [b'1041' b'id_1041' b'Product B' ... b'Location 23' b'Region 4'\n",
      "  b'16600.0']\n",
      " [b'1042' b'id_1042' b'Product C' ... b'Location 52' b'Region 6'\n",
      "  b'15600.0']\n",
      " [b'1043' b'id_1043' b'Product B' ... b'Location 142' b'Region 6'\n",
      "  b'16600.0']]\n"
     ]
    }
   ],
   "source": [
    "#Generally used for backwards compatibility as python doesn't store strings as object anymore\n",
    "lending_co_lt_data=np.genfromtxt('Lending-co-LT.csv',delimiter=',',dtype=object)\n",
    "print(lending_co_lt_data)"
   ]
  },
  {
   "cell_type": "code",
   "execution_count": null,
   "id": "016e0d32-8fd6-4de5-825e-4837e0943382",
   "metadata": {},
   "outputs": [],
   "source": []
  }
 ],
 "metadata": {
  "kernelspec": {
   "display_name": "Python 3 (ipykernel)",
   "language": "python",
   "name": "python3"
  },
  "language_info": {
   "codemirror_mode": {
    "name": "ipython",
    "version": 3
   },
   "file_extension": ".py",
   "mimetype": "text/x-python",
   "name": "python",
   "nbconvert_exporter": "python",
   "pygments_lexer": "ipython3",
   "version": "3.12.3"
  }
 },
 "nbformat": 4,
 "nbformat_minor": 5
}
