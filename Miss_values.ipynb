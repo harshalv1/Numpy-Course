{
 "cells": [
  {
   "cell_type": "code",
   "execution_count": 1,
   "id": "51478270-361f-44d5-a242-65b7b6ecfb8e",
   "metadata": {},
   "outputs": [],
   "source": [
    "import numpy as np"
   ]
  },
  {
   "cell_type": "code",
   "execution_count": 7,
   "id": "ea42b46c-89fb-445b-aa9f-721bc78e4c78",
   "metadata": {},
   "outputs": [],
   "source": [
    "lending_compy=np.loadtxt(\"Lending-company-Numeric.csv\",delimiter=',')"
   ]
  },
  {
   "cell_type": "code",
   "execution_count": 9,
   "id": "c30137cc-f4c0-4c1e-bdc4-e23ca2089a89",
   "metadata": {},
   "outputs": [
    {
     "data": {
      "text/plain": [
       "array([[ 2000.,    40.,   365.,  3121.,  4241., 13621.],\n",
       "       [ 2000.,    40.,   365.,  3061.,  4171., 15041.],\n",
       "       [ 1000.,    40.,   365.,  2160.,  3280., 15340.],\n",
       "       ...,\n",
       "       [ 2000.,    40.,   365.,  4201.,  5001., 16600.],\n",
       "       [ 1000.,    40.,   365.,  2080.,  3320., 15600.],\n",
       "       [ 2000.,    40.,   365.,  4601.,  4601., 16600.]])"
      ]
     },
     "execution_count": 9,
     "metadata": {},
     "output_type": "execute_result"
    }
   ],
   "source": [
    "lending_compy"
   ]
  },
  {
   "cell_type": "code",
   "execution_count": 13,
   "id": "262cc100-98e9-4d35-94ea-78df24116aa7",
   "metadata": {},
   "outputs": [
    {
     "data": {
      "text/plain": [
       "array([[False, False, False, False, False, False],\n",
       "       [False, False, False, False, False, False],\n",
       "       [False, False, False, False, False, False],\n",
       "       ...,\n",
       "       [False, False, False, False, False, False],\n",
       "       [False, False, False, False, False, False],\n",
       "       [False, False, False, False, False, False]])"
      ]
     },
     "execution_count": 13,
     "metadata": {},
     "output_type": "execute_result"
    }
   ],
   "source": [
    "np.isnan(lending_compy)"
   ]
  },
  {
   "cell_type": "code",
   "execution_count": 15,
   "id": "679856a5-561d-4caa-95fb-f20d58b3ead4",
   "metadata": {},
   "outputs": [
    {
     "data": {
      "text/plain": [
       "np.int64(0)"
      ]
     },
     "execution_count": 15,
     "metadata": {},
     "output_type": "execute_result"
    }
   ],
   "source": [
    "np.isnan(lending_compy).sum()"
   ]
  },
  {
   "cell_type": "code",
   "execution_count": 21,
   "id": "220afa74-042d-43a1-b8ac-ab56ccd2a4a9",
   "metadata": {},
   "outputs": [],
   "source": [
    "lending_compy_nan=np.genfromtxt(\"Lending-company-Numeric-NAN.csv\",delimiter=';')"
   ]
  },
  {
   "cell_type": "code",
   "execution_count": 23,
   "id": "3908f69c-4f15-411c-8d90-df81dd65c55d",
   "metadata": {},
   "outputs": [
    {
     "data": {
      "text/plain": [
       "array([[ 2000.,    40.,   365.,  3121.,  4241., 13621.],\n",
       "       [ 2000.,    40.,   365.,  3061.,  4171., 15041.],\n",
       "       [ 1000.,    40.,   365.,  2160.,  3280., 15340.],\n",
       "       ...,\n",
       "       [   nan,    40.,   365.,  4201.,  5001., 16600.],\n",
       "       [ 1000.,    40.,   365.,  2080.,  3320., 15600.],\n",
       "       [ 2000.,    40.,   365.,  4601.,  4601., 16600.]])"
      ]
     },
     "execution_count": 23,
     "metadata": {},
     "output_type": "execute_result"
    }
   ],
   "source": [
    "lending_compy_nan"
   ]
  },
  {
   "cell_type": "code",
   "execution_count": 25,
   "id": "a1bbfbf6-f52a-4d02-8ad8-0e896e9d0ddf",
   "metadata": {},
   "outputs": [
    {
     "data": {
      "text/plain": [
       "array([[False, False, False, False, False, False],\n",
       "       [False, False, False, False, False, False],\n",
       "       [False, False, False, False, False, False],\n",
       "       ...,\n",
       "       [ True, False, False, False, False, False],\n",
       "       [False, False, False, False, False, False],\n",
       "       [False, False, False, False, False, False]])"
      ]
     },
     "execution_count": 25,
     "metadata": {},
     "output_type": "execute_result"
    }
   ],
   "source": [
    "np.isnan(lending_compy_nan)"
   ]
  },
  {
   "cell_type": "code",
   "execution_count": 27,
   "id": "df8e346a-9b7d-4a83-b2a5-6d54430cfd77",
   "metadata": {},
   "outputs": [
    {
     "data": {
      "text/plain": [
       "np.int64(260)"
      ]
     },
     "execution_count": 27,
     "metadata": {},
     "output_type": "execute_result"
    }
   ],
   "source": [
    "np.isnan(lending_compy_nan).sum()"
   ]
  },
  {
   "cell_type": "code",
   "execution_count": 29,
   "id": "6a3cf1c5-0e0e-40dd-83b6-c3f6088d9350",
   "metadata": {},
   "outputs": [
    {
     "data": {
      "text/plain": [
       "np.float64(64001.0)"
      ]
     },
     "execution_count": 29,
     "metadata": {},
     "output_type": "execute_result"
    }
   ],
   "source": [
    "np.nanmax(lending_compy_nan)"
   ]
  },
  {
   "cell_type": "code",
   "execution_count": 31,
   "id": "025cf852-74ee-4f59-ad76-4037072b6592",
   "metadata": {},
   "outputs": [],
   "source": [
    "temp_fill=np.nanmax(lending_compy_nan)+1\n",
    "lending_compy_nan=np.genfromtxt(\"Lending-company-Numeric-NAN.csv\",delimiter=';',filling_values=temp_fill)"
   ]
  },
  {
   "cell_type": "code",
   "execution_count": 35,
   "id": "0e0d15d7-ebde-460b-8b34-fcbc0a37c792",
   "metadata": {},
   "outputs": [
    {
     "data": {
      "text/plain": [
       "array([[False, False, False, False, False, False],\n",
       "       [False, False, False, False, False, False],\n",
       "       [False, False, False, False, False, False],\n",
       "       ...,\n",
       "       [False, False, False, False, False, False],\n",
       "       [False, False, False, False, False, False],\n",
       "       [False, False, False, False, False, False]])"
      ]
     },
     "execution_count": 35,
     "metadata": {},
     "output_type": "execute_result"
    }
   ],
   "source": [
    "np.isnan(lending_compy_nan)"
   ]
  },
  {
   "cell_type": "code",
   "execution_count": 37,
   "id": "1a7d6212-7b00-489e-a824-2ed1cce61acf",
   "metadata": {},
   "outputs": [
    {
     "data": {
      "text/plain": [
       "np.int64(0)"
      ]
     },
     "execution_count": 37,
     "metadata": {},
     "output_type": "execute_result"
    }
   ],
   "source": [
    "np.isnan(lending_compy_nan).sum()"
   ]
  },
  {
   "cell_type": "code",
   "execution_count": null,
   "id": "f6c6c1f9-2b06-43ff-bd3a-4988ececb51f",
   "metadata": {},
   "outputs": [],
   "source": []
  }
 ],
 "metadata": {
  "kernelspec": {
   "display_name": "Python 3 (ipykernel)",
   "language": "python",
   "name": "python3"
  },
  "language_info": {
   "codemirror_mode": {
    "name": "ipython",
    "version": 3
   },
   "file_extension": ".py",
   "mimetype": "text/x-python",
   "name": "python",
   "nbconvert_exporter": "python",
   "pygments_lexer": "ipython3",
   "version": "3.12.3"
  }
 },
 "nbformat": 4,
 "nbformat_minor": 5
}
