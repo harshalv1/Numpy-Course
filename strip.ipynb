{
 "cells": [
  {
   "cell_type": "code",
   "execution_count": 87,
   "id": "b9d03908-2ac8-471d-b97d-8b8d3311df58",
   "metadata": {},
   "outputs": [
    {
     "data": {
      "text/plain": [
       "array([['id_1', 'Product B', 'Location 2'],\n",
       "       ['id_2', 'Product B', 'Location 3'],\n",
       "       ['id_3', 'Product C', 'Location 5'],\n",
       "       ...,\n",
       "       ['id_1041', 'Product B', 'Location 23'],\n",
       "       ['id_1042', 'Product C', 'Location 52'],\n",
       "       ['id_1043', 'Product B', 'Location 142']], dtype='<U12')"
      ]
     },
     "execution_count": 87,
     "metadata": {},
     "output_type": "execute_result"
    }
   ],
   "source": [
    "import numpy as np\n",
    "lending_co_data=np.genfromtxt(\"Lending-Company-Saving.csv\",delimiter=\",\",dtype=str,skip_header=1,usecols=[1,2,4])\n",
    "lending_co_data"
   ]
  },
  {
   "cell_type": "code",
   "execution_count": 89,
   "id": "f725c032-94f7-43f5-8485-ad3e8c22013e",
   "metadata": {},
   "outputs": [],
   "source": [
    "#Removes the id_ part from the 1st column of the lendlending_co_data array\n",
    "lending_co_data[:,0]=np.char.strip(lending_co_data[:,0],\"id_\")"
   ]
  },
  {
   "cell_type": "code",
   "execution_count": 91,
   "id": "cfaa422e-329f-4848-b32a-7dadbb81c32a",
   "metadata": {},
   "outputs": [],
   "source": [
    "lending_co_data[:,1]=np.char.strip(lending_co_data[:,1],\"Product \")"
   ]
  },
  {
   "cell_type": "code",
   "execution_count": 93,
   "id": "689b56d0-adcb-4c5e-b192-06d9b05a600a",
   "metadata": {},
   "outputs": [],
   "source": [
    "lending_co_data[:,2]=np.char.strip(lending_co_data[:,2],\"Location \")"
   ]
  },
  {
   "cell_type": "code",
   "execution_count": 95,
   "id": "13327f14-5d42-4d63-99e6-ac0e71661c5b",
   "metadata": {},
   "outputs": [
    {
     "data": {
      "text/plain": [
       "array([['1', 'B', '2'],\n",
       "       ['2', 'B', '3'],\n",
       "       ['3', 'C', '5'],\n",
       "       ...,\n",
       "       ['1041', 'B', '23'],\n",
       "       ['1042', 'C', '52'],\n",
       "       ['1043', 'B', '142']], dtype='<U12')"
      ]
     },
     "execution_count": 95,
     "metadata": {},
     "output_type": "execute_result"
    }
   ],
   "source": [
    "lending_co_data"
   ]
  },
  {
   "cell_type": "code",
   "execution_count": 97,
   "id": "f43f6036-5814-4036-8f4b-23b40d9bd9b9",
   "metadata": {},
   "outputs": [
    {
     "data": {
      "text/plain": [
       "array([['1', '2', '2'],\n",
       "       ['2', '2', '3'],\n",
       "       ['3', '3', '5'],\n",
       "       ...,\n",
       "       ['1041', '2', '23'],\n",
       "       ['1042', '3', '52'],\n",
       "       ['1043', '2', '142']], dtype='<U12')"
      ]
     },
     "execution_count": 97,
     "metadata": {},
     "output_type": "execute_result"
    }
   ],
   "source": [
    "#Replaced the alphabets by the numbers using a conditional in where statement \n",
    "lending_co_data[:,1]=np.where(lending_co_data[:,1]=='A','1',lending_co_data[:,1])\n",
    "lending_co_data[:,1]=np.where(lending_co_data[:,1]=='B','2',lending_co_data[:,1])\n",
    "lending_co_data[:,1]=np.where(lending_co_data[:,1]=='C','3',lending_co_data[:,1])\n",
    "lending_co_data[:,1]=np.where(lending_co_data[:,1]=='D','4',lending_co_data[:,1])\n",
    "lending_co_data[:,1]=np.where(lending_co_data[:,1]=='E','5',lending_co_data[:,1])\n",
    "lending_co_data[:,1]=np.where(lending_co_data[:,1]=='F','6',lending_co_data[:,1])\n",
    "\n",
    "\n",
    "lending_co_data"
   ]
  },
  {
   "cell_type": "code",
   "execution_count": 99,
   "id": "ed91f16c-2f79-443a-b31a-40c9c6c6dd85",
   "metadata": {},
   "outputs": [
    {
     "data": {
      "text/plain": [
       "array([[   1,    2,    2],\n",
       "       [   2,    2,    3],\n",
       "       [   3,    3,    5],\n",
       "       ...,\n",
       "       [1041,    2,   23],\n",
       "       [1042,    3,   52],\n",
       "       [1043,    2,  142]], dtype=int32)"
      ]
     },
     "execution_count": 99,
     "metadata": {},
     "output_type": "execute_result"
    }
   ],
   "source": [
    "#chaned the data type from str to int32 and overwrote it over the original\n",
    "lending_co_data=lending_co_data.astype(dtype=np.int32)\n",
    "lending_co_data"
   ]
  },
  {
   "cell_type": "code",
   "execution_count": null,
   "id": "353ebea0-e63b-4405-8eca-997cf9cd3cdb",
   "metadata": {},
   "outputs": [],
   "source": [
    "#Stack always gives a higher dimension output for its input \n",
    "#The outputs for stack and dstack are equivalent for 1 and 2 d arrays\n",
    "#For a 3-d array dstack return a 3d array whereas stack returns a four dimesnsional array"
   ]
  }
 ],
 "metadata": {
  "kernelspec": {
   "display_name": "Python 3 (ipykernel)",
   "language": "python",
   "name": "python3"
  },
  "language_info": {
   "codemirror_mode": {
    "name": "ipython",
    "version": 3
   },
   "file_extension": ".py",
   "mimetype": "text/x-python",
   "name": "python",
   "nbconvert_exporter": "python",
   "pygments_lexer": "ipython3",
   "version": "3.12.3"
  }
 },
 "nbformat": 4,
 "nbformat_minor": 5
}
