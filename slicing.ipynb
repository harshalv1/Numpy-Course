{
 "cells": [
  {
   "cell_type": "code",
   "execution_count": 1,
   "id": "1ad403da-bbea-48c1-bc57-a57152783091",
   "metadata": {},
   "outputs": [],
   "source": [
    "import numpy as np"
   ]
  },
  {
   "cell_type": "code",
   "execution_count": 3,
   "id": "420ac90e-7d27-4a19-8b1b-4c5d31140e3e",
   "metadata": {},
   "outputs": [
    {
     "data": {
      "text/plain": [
       "array([[1, 1, 1, 2, 0],\n",
       "       [3, 6, 6, 7, 4],\n",
       "       [4, 5, 3, 8, 0]])"
      ]
     },
     "execution_count": 3,
     "metadata": {},
     "output_type": "execute_result"
    }
   ],
   "source": [
    "matrix=np.array([[1,1,1,2,0],[3,6,6,7,4],[4,5,3,8,0]])\n",
    "matrix"
   ]
  },
  {
   "cell_type": "code",
   "execution_count": 7,
   "id": "35d89e53-466a-4fa0-9077-f9d2b78a34ad",
   "metadata": {},
   "outputs": [
    {
     "data": {
      "text/plain": [
       "array([[1, 1, 1, 2, 0],\n",
       "       [3, 6, 6, 7, 4],\n",
       "       [4, 5, 3, 8, 0]])"
      ]
     },
     "execution_count": 7,
     "metadata": {},
     "output_type": "execute_result"
    }
   ],
   "source": [
    "#Stepwise Slicing\n",
    "# ':' has the default value of 1 hence there doesn't need to be its mention. It is to ensure we do not skip over any unnecessary rows and columns.\n",
    "matrix[::,::]\n"
   ]
  },
  {
   "cell_type": "code",
   "execution_count": 11,
   "id": "246b737e-a805-40d0-8fa0-d5919460319a",
   "metadata": {},
   "outputs": [
    {
     "data": {
      "text/plain": [
       "array([[1, 1, 1, 2, 0],\n",
       "       [4, 5, 3, 8, 0]])"
      ]
     },
     "execution_count": 11,
     "metadata": {},
     "output_type": "execute_result"
    }
   ],
   "source": [
    "matrix[::2,::]"
   ]
  },
  {
   "cell_type": "code",
   "execution_count": 9,
   "id": "9da05b92-c3ba-4fa7-b474-b532ae7feeb3",
   "metadata": {},
   "outputs": [
    {
     "data": {
      "text/plain": [
       "array([[1, 1, 0],\n",
       "       [4, 3, 0]])"
      ]
     },
     "execution_count": 9,
     "metadata": {},
     "output_type": "execute_result"
    }
   ],
   "source": [
    "matrix[::2,::2]"
   ]
  },
  {
   "cell_type": "code",
   "execution_count": 13,
   "id": "040214f0-ad33-4664-9923-e6b0c83d9429",
   "metadata": {},
   "outputs": [
    {
     "data": {
      "text/plain": [
       "array([[4, 5, 3, 8, 0],\n",
       "       [3, 6, 6, 7, 4],\n",
       "       [1, 1, 1, 2, 0]])"
      ]
     },
     "execution_count": 13,
     "metadata": {},
     "output_type": "execute_result"
    }
   ],
   "source": [
    "matrix[::-1,::]"
   ]
  },
  {
   "cell_type": "code",
   "execution_count": 15,
   "id": "55b19537-9dd0-428a-87c7-870c69f76cf8",
   "metadata": {},
   "outputs": [
    {
     "data": {
      "text/plain": [
       "array([[0, 1, 1],\n",
       "       [4, 6, 3],\n",
       "       [0, 3, 4]])"
      ]
     },
     "execution_count": 15,
     "metadata": {},
     "output_type": "execute_result"
    }
   ],
   "source": [
    "matrix[::,::-2]"
   ]
  },
  {
   "cell_type": "code",
   "execution_count": 19,
   "id": "855f67be-5a39-479b-a0ee-a276fbec75d9",
   "metadata": {},
   "outputs": [
    {
     "data": {
      "text/plain": [
       "array([[4, 3, 0],\n",
       "       [3, 6, 4],\n",
       "       [1, 1, 0]])"
      ]
     },
     "execution_count": 19,
     "metadata": {},
     "output_type": "execute_result"
    }
   ],
   "source": [
    "matrix[::-1,::2]"
   ]
  },
  {
   "cell_type": "code",
   "execution_count": 23,
   "id": "df57206f-ef8e-45c6-b6aa-59ecd97c3966",
   "metadata": {},
   "outputs": [
    {
     "data": {
      "text/plain": [
       "array([[False, False, False, False, False],\n",
       "       [ True,  True,  True,  True,  True],\n",
       "       [ True,  True,  True,  True, False]])"
      ]
     },
     "execution_count": 23,
     "metadata": {},
     "output_type": "execute_result"
    }
   ],
   "source": [
    "#Conditional Slicing\n",
    "matrix[:] > 2\n",
    "#Returns true for all values that are greater than 2"
   ]
  },
  {
   "cell_type": "code",
   "execution_count": 25,
   "id": "acfb852a-7bf7-4913-89d3-42ecc24bea4a",
   "metadata": {},
   "outputs": [
    {
     "data": {
      "text/plain": [
       "array([3, 6, 6, 7, 4, 4, 5, 3, 8])"
      ]
     },
     "execution_count": 25,
     "metadata": {},
     "output_type": "execute_result"
    }
   ],
   "source": [
    "matrix[matrix[:]>2]"
   ]
  },
  {
   "cell_type": "code",
   "execution_count": 27,
   "id": "9771bd1b-77eb-4de3-8c93-76e2db75a333",
   "metadata": {},
   "outputs": [
    {
     "data": {
      "text/plain": [
       "array([1, 1, 1, 0, 0])"
      ]
     },
     "execution_count": 27,
     "metadata": {},
     "output_type": "execute_result"
    }
   ],
   "source": [
    "matrix[matrix[:]<2]"
   ]
  },
  {
   "cell_type": "code",
   "execution_count": 29,
   "id": "d1b8ba46-d1d0-42d6-a65e-3b90aa1d7875",
   "metadata": {},
   "outputs": [
    {
     "data": {
      "text/plain": [
       "array([2, 3, 6, 6, 7, 4, 4, 5, 3, 8])"
      ]
     },
     "execution_count": 29,
     "metadata": {},
     "output_type": "execute_result"
    }
   ],
   "source": [
    "matrix[matrix[:]>=2]"
   ]
  },
  {
   "cell_type": "code",
   "execution_count": 37,
   "id": "8d075f23-4da1-448a-abd5-23594f9af728",
   "metadata": {},
   "outputs": [
    {
     "data": {
      "text/plain": [
       "array([6, 6, 8])"
      ]
     },
     "execution_count": 37,
     "metadata": {},
     "output_type": "execute_result"
    }
   ],
   "source": [
    "matrix[(matrix[:]>4) & (matrix[:]%2==0)]"
   ]
  },
  {
   "cell_type": "code",
   "execution_count": 39,
   "id": "36003f85-2676-49e7-9b11-0880706b50dd",
   "metadata": {},
   "outputs": [
    {
     "data": {
      "text/plain": [
       "array([2, 0, 6, 6, 7, 4, 4, 5, 8, 0])"
      ]
     },
     "execution_count": 39,
     "metadata": {},
     "output_type": "execute_result"
    }
   ],
   "source": [
    "matrix[(matrix[:]>4) | (matrix[:]%2==0)]"
   ]
  },
  {
   "cell_type": "code",
   "execution_count": null,
   "id": "411d51a7-fe6a-46a5-bbd4-b12928d81409",
   "metadata": {},
   "outputs": [],
   "source": []
  }
 ],
 "metadata": {
  "kernelspec": {
   "display_name": "Python 3 (ipykernel)",
   "language": "python",
   "name": "python3"
  },
  "language_info": {
   "codemirror_mode": {
    "name": "ipython",
    "version": 3
   },
   "file_extension": ".py",
   "mimetype": "text/x-python",
   "name": "python",
   "nbconvert_exporter": "python",
   "pygments_lexer": "ipython3",
   "version": "3.12.3"
  }
 },
 "nbformat": 4,
 "nbformat_minor": 5
}
