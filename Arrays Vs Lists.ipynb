{
 "cells": [
  {
   "cell_type": "code",
   "execution_count": 1,
   "id": "b61f2603-f7dc-41c2-b3c5-1cc2c8173c06",
   "metadata": {},
   "outputs": [],
   "source": [
    "import numpy as np"
   ]
  },
  {
   "cell_type": "code",
   "execution_count": 17,
   "id": "a57ff47a-43b6-4a32-8f82-711a8a7a98b0",
   "metadata": {},
   "outputs": [
    {
     "data": {
      "text/plain": [
       "[[1, 2, 3], [4, 5, 6]]"
      ]
     },
     "execution_count": 17,
     "metadata": {},
     "output_type": "execute_result"
    }
   ],
   "source": [
    "list_a=[[1,2,3],[4,5,6]]\n",
    "list_a"
   ]
  },
  {
   "cell_type": "code",
   "execution_count": 19,
   "id": "419aaa3d-f618-4755-802b-ddeb0f53d412",
   "metadata": {},
   "outputs": [
    {
     "data": {
      "text/plain": [
       "array([[1, 2, 3],\n",
       "       [4, 5, 6]])"
      ]
     },
     "execution_count": 19,
     "metadata": {},
     "output_type": "execute_result"
    }
   ],
   "source": [
    "array_a=np.array(list_a)\n",
    "array_a"
   ]
  },
  {
   "cell_type": "code",
   "execution_count": 21,
   "id": "a057e6d9-918e-4f6f-8a3f-232dd8fd4360",
   "metadata": {},
   "outputs": [
    {
     "data": {
      "text/plain": [
       "list"
      ]
     },
     "execution_count": 21,
     "metadata": {},
     "output_type": "execute_result"
    }
   ],
   "source": [
    "type(list_a)"
   ]
  },
  {
   "cell_type": "code",
   "execution_count": 23,
   "id": "072ccc3a-1a2b-4476-b1b2-3645464a7215",
   "metadata": {},
   "outputs": [
    {
     "data": {
      "text/plain": [
       "numpy.ndarray"
      ]
     },
     "execution_count": 23,
     "metadata": {},
     "output_type": "execute_result"
    }
   ],
   "source": [
    "type(array_a)"
   ]
  },
  {
   "cell_type": "code",
   "execution_count": 25,
   "id": "29a91814-898c-4505-b314-1c6f6f0c5328",
   "metadata": {},
   "outputs": [
    {
     "data": {
      "text/plain": [
       "(2, 3)"
      ]
     },
     "execution_count": 25,
     "metadata": {},
     "output_type": "execute_result"
    }
   ],
   "source": [
    "array_a.shape"
   ]
  },
  {
   "cell_type": "code",
   "execution_count": 29,
   "id": "57e635e3-84fb-45b4-9f32-d588b86183b4",
   "metadata": {},
   "outputs": [
    {
     "ename": "AttributeError",
     "evalue": "'list' object has no attribute 'shape'",
     "output_type": "error",
     "traceback": [
      "\u001b[0;31m---------------------------------------------------------------------------\u001b[0m",
      "\u001b[0;31mAttributeError\u001b[0m                            Traceback (most recent call last)",
      "Cell \u001b[0;32mIn[29], line 2\u001b[0m\n\u001b[1;32m      1\u001b[0m \u001b[38;5;66;03m#Lists dont have shape \u001b[39;00m\n\u001b[0;32m----> 2\u001b[0m list_a\u001b[38;5;241m.\u001b[39mshape\n",
      "\u001b[0;31mAttributeError\u001b[0m: 'list' object has no attribute 'shape'"
     ]
    }
   ],
   "source": [
    "#Lists dont have shape \n",
    "list_a.shape"
   ]
  },
  {
   "cell_type": "code",
   "execution_count": 31,
   "id": "820af0f0-9c49-4343-9ebb-dea57f653b3a",
   "metadata": {},
   "outputs": [
    {
     "data": {
      "text/plain": [
       "2"
      ]
     },
     "execution_count": 31,
     "metadata": {},
     "output_type": "execute_result"
    }
   ],
   "source": [
    "#tells us how many inner lists are contained in the nested lists\n",
    "len(list_a)"
   ]
  },
  {
   "cell_type": "code",
   "execution_count": 33,
   "id": "4208a04d-f9a6-4892-9c16-abc35f6efead",
   "metadata": {},
   "outputs": [
    {
     "data": {
      "text/plain": [
       "3"
      ]
     },
     "execution_count": 33,
     "metadata": {},
     "output_type": "execute_result"
    }
   ],
   "source": [
    "#if we need to find the no of elements in the first list we need to use index 0\n",
    "len(list_a[0])"
   ]
  },
  {
   "cell_type": "code",
   "execution_count": null,
   "id": "213f6b82-2664-4639-bfed-4c015e3dc729",
   "metadata": {},
   "outputs": [],
   "source": [
    "#similarly if we need to find the no of elements in the second list we need to use index 1\n",
    "len(list_a[1])"
   ]
  },
  {
   "cell_type": "code",
   "execution_count": 37,
   "id": "b88bca87-3013-4599-be14-cf8feaf2931e",
   "metadata": {},
   "outputs": [],
   "source": [
    "array_b=array_a[0]+array_a[1]\n",
    "list_b=list_a[0]+list_a[1]\n"
   ]
  },
  {
   "cell_type": "code",
   "execution_count": 39,
   "id": "9b3487b7-6e9f-4e77-8fa9-1aabdf355fc4",
   "metadata": {},
   "outputs": [
    {
     "data": {
      "text/plain": [
       "array([5, 7, 9])"
      ]
     },
     "execution_count": 39,
     "metadata": {},
     "output_type": "execute_result"
    }
   ],
   "source": [
    "#The arrays are added to give us the added output \n",
    "array_b"
   ]
  },
  {
   "cell_type": "code",
   "execution_count": 41,
   "id": "b858adb8-e279-4b67-b6e9-5b74b1a05886",
   "metadata": {},
   "outputs": [
    {
     "data": {
      "text/plain": [
       "[1, 2, 3, 4, 5, 6]"
      ]
     },
     "execution_count": 41,
     "metadata": {},
     "output_type": "execute_result"
    }
   ],
   "source": [
    "#The lists are concatenated\n",
    "list_b"
   ]
  },
  {
   "cell_type": "code",
   "execution_count": 43,
   "id": "593a71b8-5d27-452b-a7c4-7448ae9ac901",
   "metadata": {},
   "outputs": [
    {
     "data": {
      "text/plain": [
       "array([2.23606798, 2.64575131, 3.        ])"
      ]
     },
     "execution_count": 43,
     "metadata": {},
     "output_type": "execute_result"
    }
   ],
   "source": [
    "np.sqrt(array_b)"
   ]
  },
  {
   "cell_type": "code",
   "execution_count": null,
   "id": "2dc65ba5-1bea-45b2-931d-d726c934b576",
   "metadata": {},
   "outputs": [],
   "source": []
  }
 ],
 "metadata": {
  "kernelspec": {
   "display_name": "Python 3 (ipykernel)",
   "language": "python",
   "name": "python3"
  },
  "language_info": {
   "codemirror_mode": {
    "name": "ipython",
    "version": 3
   },
   "file_extension": ".py",
   "mimetype": "text/x-python",
   "name": "python",
   "nbconvert_exporter": "python",
   "pygments_lexer": "ipython3",
   "version": "3.12.3"
  }
 },
 "nbformat": 4,
 "nbformat_minor": 5
}
