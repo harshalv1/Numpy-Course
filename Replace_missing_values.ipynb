{
 "cells": [
  {
   "cell_type": "code",
   "execution_count": 72,
   "id": "33c5b279-8236-4557-b925-e46bbc94a8da",
   "metadata": {},
   "outputs": [],
   "source": [
    "import numpy as np"
   ]
  },
  {
   "cell_type": "code",
   "execution_count": 74,
   "id": "f78a1210-7d6c-49c5-aaf4-432690ab6077",
   "metadata": {},
   "outputs": [],
   "source": [
    "comp_numeric_dat_NAN=np.genfromtxt(\"Lending-company-Numeric-NAN.csv\",delimiter=\";\")"
   ]
  },
  {
   "cell_type": "code",
   "execution_count": 76,
   "id": "5eb1a267-874c-4851-8adb-b418c563b129",
   "metadata": {},
   "outputs": [
    {
     "data": {
      "text/plain": [
       "np.float64(2250.25)"
      ]
     },
     "execution_count": 76,
     "metadata": {},
     "output_type": "execute_result"
    }
   ],
   "source": [
    "column_means=np.nanmean(comp_numeric_dat_NAN,axis=0).round(2)\n",
    "column_means[0]"
   ]
  },
  {
   "cell_type": "code",
   "execution_count": 78,
   "id": "2bf3f56a-73f8-4037-9320-9ba60a4b0fe2",
   "metadata": {},
   "outputs": [
    {
     "data": {
      "text/plain": [
       "np.float64(64002.0)"
      ]
     },
     "execution_count": 78,
     "metadata": {},
     "output_type": "execute_result"
    }
   ],
   "source": [
    "temp_fill=np.nanmax(comp_numeric_dat_NAN)+1\n",
    "temp_fill"
   ]
  },
  {
   "cell_type": "code",
   "execution_count": 82,
   "id": "8a416e44-94ef-4573-9d78-e7d1b4c8e3ba",
   "metadata": {},
   "outputs": [
    {
     "data": {
      "text/plain": [
       "np.float64(4263.25)"
      ]
     },
     "execution_count": 82,
     "metadata": {},
     "output_type": "execute_result"
    }
   ],
   "source": [
    "#Note that the mean almost doubled this can lead to skewed/inaccurate analysis\n",
    "comp_numeric_dat_NAN=np.genfromtxt(\"Lending-company-Numeric-NAN.csv\",delimiter=\";\",filling_values=temp_fill)\n",
    "np.mean(comp_numeric_dat_NAN[:,0]).round(2)\n"
   ]
  },
  {
   "cell_type": "code",
   "execution_count": 86,
   "id": "abd50733-c1c6-4ac4-b7b5-19613dfdb6e9",
   "metadata": {},
   "outputs": [
    {
     "data": {
      "text/plain": [
       "np.float64(2250.25)"
      ]
     },
     "execution_count": 86,
     "metadata": {},
     "output_type": "execute_result"
    }
   ],
   "source": [
    "comp_numeric_dat_NAN[:,0]=np.where(comp_numeric_dat_NAN[:,0]==temp_fill,\n",
    "                                   column_means[0],\n",
    "                                   comp_numeric_dat_NAN[:,0])\n",
    "column_means[0].round(2)"
   ]
  },
  {
   "cell_type": "code",
   "execution_count": 103,
   "id": "33a249a2-8dad-4b4f-8d43-3275d5abe539",
   "metadata": {},
   "outputs": [],
   "source": [
    "for i in range(comp_numeric_dat_NAN.shape[1]):\n",
    "    comp_numeric_dat_NAN[:,i]=np.where(comp_numeric_dat_NAN[:,i]==temp_fill,\n",
    "                                   column_means[i],\n",
    "                                   comp_numeric_dat_NAN[:,i])\n",
    "                                    "
   ]
  },
  {
   "cell_type": "code",
   "execution_count": null,
   "id": "013381d5-c0d6-4616-8e6e-6b4a1db4a9dd",
   "metadata": {},
   "outputs": [],
   "source": []
  }
 ],
 "metadata": {
  "kernelspec": {
   "display_name": "Python 3 (ipykernel)",
   "language": "python",
   "name": "python3"
  },
  "language_info": {
   "codemirror_mode": {
    "name": "ipython",
    "version": 3
   },
   "file_extension": ".py",
   "mimetype": "text/x-python",
   "name": "python",
   "nbconvert_exporter": "python",
   "pygments_lexer": "ipython3",
   "version": "3.12.3"
  }
 },
 "nbformat": 4,
 "nbformat_minor": 5
}
