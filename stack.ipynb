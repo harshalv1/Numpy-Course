{
 "cells": [
  {
   "cell_type": "code",
   "execution_count": 37,
   "id": "74d55120-b1f7-43fe-9547-80eb130ac392",
   "metadata": {},
   "outputs": [
    {
     "data": {
      "text/plain": [
       "array([[ 2000.,    40.,   365.,  3121.,  4241., 13621.],\n",
       "       [ 2000.,    40.,   365.,  3061.,  4171., 15041.],\n",
       "       [ 1000.,    40.,   365.,  2160.,  3280., 15340.],\n",
       "       ...,\n",
       "       [ 2000.,    40.,   365.,  4201.,  5001., 16600.],\n",
       "       [ 1000.,    40.,   365.,  2080.,  3320., 15600.],\n",
       "       [ 2000.,    40.,   365.,  4601.,  4601., 16600.]])"
      ]
     },
     "execution_count": 37,
     "metadata": {},
     "output_type": "execute_result"
    }
   ],
   "source": [
    "import numpy as np\n",
    "lending_co_numeric=np.loadtxt(\"Lending-Company-Numeric-Data.csv\",delimiter=\",\")\n",
    "lending_co_numeric"
   ]
  },
  {
   "cell_type": "code",
   "execution_count": 39,
   "id": "4bb3f251-e0c9-430d-89db-140d7fc1fd2a",
   "metadata": {},
   "outputs": [
    {
     "data": {
      "text/plain": [
       "array([[ 2000.,    40.,   365.,  3121.,  4241., 13621.],\n",
       "       [ 2000.,    40.,   365.,  3061.,  4171., 15041.],\n",
       "       [ 1000.,    40.,   365.,  2160.,  3280., 15340.],\n",
       "       ...,\n",
       "       [   nan,    40.,   365.,  4201.,  5001., 16600.],\n",
       "       [ 1000.,    40.,   365.,  2080.,  3320., 15600.],\n",
       "       [ 2000.,    40.,   365.,  4601.,  4601., 16600.]])"
      ]
     },
     "execution_count": 39,
     "metadata": {},
     "output_type": "execute_result"
    }
   ],
   "source": [
    "lending_co_numeric_NAN=np.genfromtxt(\"Lending-company-Numeric-Data-NAN.csv\",delimiter=\";\")\n",
    "lending_co_numeric_NAN"
   ]
  },
  {
   "cell_type": "code",
   "execution_count": 41,
   "id": "41264cba-e466-46a0-9c35-d163de5d51bc",
   "metadata": {},
   "outputs": [],
   "source": [
    "temporary_fill=np.nanmax(lending_co_numeric_NAN)+1\n",
    "temp_mean=np.nanmean(lending_co_numeric_NAN,axis=0).round(2)\n",
    "\n",
    "lending_co_numeric_NAN=np.genfromtxt(\"Lending-company-Numeric-Data-NAN.csv\",delimiter=\";\",filling_values=temporary_fill)\n",
    "\n",
    "for i in range(lending_co_numeric_NAN.shape[1]):\n",
    "    lending_co_numeric_NAN[:,i]=np.where(lending_co_numeric_NAN[:,i]==temporary_fill,temp_mean[i],lending_co_numeric_NAN[:,i])\n"
   ]
  },
  {
   "cell_type": "code",
   "execution_count": 43,
   "id": "58a82416-8a47-4f94-96f6-4125cb392cb2",
   "metadata": {},
   "outputs": [
    {
     "data": {
      "text/plain": [
       "array([[ 2000.  ,    40.  ,   365.  ,  3121.  ,  4241.  , 13621.  ],\n",
       "       [ 2000.  ,    40.  ,   365.  ,  3061.  ,  4171.  , 15041.  ],\n",
       "       [ 1000.  ,    40.  ,   365.  ,  2160.  ,  3280.  , 15340.  ],\n",
       "       ...,\n",
       "       [ 2250.25,    40.  ,   365.  ,  4201.  ,  5001.  , 16600.  ],\n",
       "       [ 1000.  ,    40.  ,   365.  ,  2080.  ,  3320.  , 15600.  ],\n",
       "       [ 2000.  ,    40.  ,   365.  ,  4601.  ,  4601.  , 16600.  ]])"
      ]
     },
     "execution_count": 43,
     "metadata": {},
     "output_type": "execute_result"
    }
   ],
   "source": [
    "lending_co_numeric_NAN"
   ]
  },
  {
   "cell_type": "code",
   "execution_count": 47,
   "id": "284c10ba-7ed0-4f4a-8587-ed85c67d68b6",
   "metadata": {},
   "outputs": [
    {
     "data": {
      "text/plain": [
       "array([[2000., 2000., 1000., ..., 2000., 1000., 2000.],\n",
       "       [  40.,   40.,   40., ...,   40.,   40.,   40.]])"
      ]
     },
     "execution_count": 47,
     "metadata": {},
     "output_type": "execute_result"
    }
   ],
   "source": [
    "#It is similar to transposing a matrix here the columns are stacked as column values\n",
    "np.stack((lending_co_numeric[:,0],lending_co_numeric[:,1]))"
   ]
  },
  {
   "cell_type": "code",
   "execution_count": null,
   "id": "299f0d64-140b-4e71-a626-6343f61ff4ac",
   "metadata": {},
   "outputs": [],
   "source": [
    "#The order can also be changed the first mentioned part of the array will come first \n",
    "np.stack((lending_co_numeric[:,1],lending_co_numeric[:,0]))"
   ]
  },
  {
   "cell_type": "code",
   "execution_count": 87,
   "id": "013ac16a-9cf0-421e-b4d2-13e59ae15ec9",
   "metadata": {},
   "outputs": [
    {
     "data": {
      "text/plain": [
       "array([[  40.,   40.,   40., ...,   40.,   40.,   40.],\n",
       "       [2000., 2000., 1000., ..., 2000., 1000., 2000.],\n",
       "       [ 365.,  365.,  365., ...,  365.,  365.,  365.]])"
      ]
     },
     "execution_count": 87,
     "metadata": {},
     "output_type": "execute_result"
    }
   ],
   "source": [
    "#We can also stack multiple elements\n",
    "np.stack((lending_co_numeric[:,1],lending_co_numeric[:,0],lending_co_numeric[:,2]))"
   ]
  },
  {
   "cell_type": "code",
   "execution_count": null,
   "id": "28a67b1b-0e13-44ac-96b2-768157b525ab",
   "metadata": {},
   "outputs": [],
   "source": [
    "np.stack((lending_co_numeric[:,1],lending_co_numeric[:,0],))"
   ]
  },
  {
   "cell_type": "code",
   "execution_count": 51,
   "id": "3b92ca15-ee60-4700-8efa-a680908a2f48",
   "metadata": {},
   "outputs": [
    {
     "data": {
      "text/plain": [
       "array([[2000.,   40.],\n",
       "       [2000.,   40.],\n",
       "       [1000.,   40.],\n",
       "       ...,\n",
       "       [2000.,   40.],\n",
       "       [1000.,   40.],\n",
       "       [2000.,   40.]])"
      ]
     },
     "execution_count": 51,
     "metadata": {},
     "output_type": "execute_result"
    }
   ],
   "source": [
    "#stacking columns side by side\n",
    "np.stack((lending_co_numeric[:,0],lending_co_numeric[:,1]),axis=1)"
   ]
  },
  {
   "cell_type": "code",
   "execution_count": 69,
   "id": "a5a86656-5c54-4977-8d16-356b31756c63",
   "metadata": {},
   "outputs": [
    {
     "data": {
      "text/plain": [
       "array([[ 2000.  ,    40.  ,   365.  ,  3121.  ,  4241.  , 13621.  ],\n",
       "       [ 2000.  ,    40.  ,   365.  ,  3061.  ,  4171.  , 15041.  ],\n",
       "       [ 1000.  ,    40.  ,   365.  ,  2160.  ,  3280.  , 15340.  ],\n",
       "       ...,\n",
       "       [ 2250.25,    40.  ,   365.  ,  4201.  ,  5001.  , 16600.  ],\n",
       "       [ 1000.  ,    40.  ,   365.  ,  2080.  ,  3320.  , 15600.  ],\n",
       "       [ 2000.  ,    40.  ,   365.  ,  4601.  ,  4601.  , 16600.  ]])"
      ]
     },
     "execution_count": 69,
     "metadata": {},
     "output_type": "execute_result"
    }
   ],
   "source": [
    "#Vertical stacking \n",
    "np.vstack((lending_co_numeric,lending_co_numeric_NAN))"
   ]
  },
  {
   "cell_type": "code",
   "execution_count": 71,
   "id": "33104d1c-8e1f-43f1-8370-e798ccf4a01b",
   "metadata": {},
   "outputs": [
    {
     "data": {
      "text/plain": [
       "(2086, 6)"
      ]
     },
     "execution_count": 71,
     "metadata": {},
     "output_type": "execute_result"
    }
   ],
   "source": [
    "#The stacks are one below the other\n",
    "np.vstack((lending_co_numeric,lending_co_numeric_NAN)).shape"
   ]
  },
  {
   "cell_type": "code",
   "execution_count": 73,
   "id": "0aae9985-c104-4efc-9286-182d71e50a3e",
   "metadata": {},
   "outputs": [
    {
     "data": {
      "text/plain": [
       "array([[ 2000.,    40.,   365., ...,  3121.,  4241., 13621.],\n",
       "       [ 2000.,    40.,   365., ...,  3061.,  4171., 15041.],\n",
       "       [ 1000.,    40.,   365., ...,  2160.,  3280., 15340.],\n",
       "       ...,\n",
       "       [ 2000.,    40.,   365., ...,  4201.,  5001., 16600.],\n",
       "       [ 1000.,    40.,   365., ...,  2080.,  3320., 15600.],\n",
       "       [ 2000.,    40.,   365., ...,  4601.,  4601., 16600.]])"
      ]
     },
     "execution_count": 73,
     "metadata": {},
     "output_type": "execute_result"
    }
   ],
   "source": [
    "#The stacks are side by side (horizontally)\n",
    "np.hstack((lending_co_numeric,lending_co_numeric_NAN))"
   ]
  },
  {
   "cell_type": "code",
   "execution_count": 75,
   "id": "015854eb-fa8c-468f-95df-f8b9bf1f9e00",
   "metadata": {},
   "outputs": [
    {
     "data": {
      "text/plain": [
       "(1043, 12)"
      ]
     },
     "execution_count": 75,
     "metadata": {},
     "output_type": "execute_result"
    }
   ],
   "source": [
    "#Horizontal stack\n",
    "np.hstack((lending_co_numeric,lending_co_numeric_NAN)).shape"
   ]
  },
  {
   "cell_type": "code",
   "execution_count": 77,
   "id": "ab29c6fc-e954-4804-abd6-560ce9b40549",
   "metadata": {},
   "outputs": [
    {
     "data": {
      "text/plain": [
       "array([[[ 2000.  ,  2000.  ],\n",
       "        [   40.  ,    40.  ],\n",
       "        [  365.  ,   365.  ],\n",
       "        [ 3121.  ,  3121.  ],\n",
       "        [ 4241.  ,  4241.  ],\n",
       "        [13621.  , 13621.  ]],\n",
       "\n",
       "       [[ 2000.  ,  2000.  ],\n",
       "        [   40.  ,    40.  ],\n",
       "        [  365.  ,   365.  ],\n",
       "        [ 3061.  ,  3061.  ],\n",
       "        [ 4171.  ,  4171.  ],\n",
       "        [15041.  , 15041.  ]],\n",
       "\n",
       "       [[ 1000.  ,  1000.  ],\n",
       "        [   40.  ,    40.  ],\n",
       "        [  365.  ,   365.  ],\n",
       "        [ 2160.  ,  2160.  ],\n",
       "        [ 3280.  ,  3280.  ],\n",
       "        [15340.  , 15340.  ]],\n",
       "\n",
       "       ...,\n",
       "\n",
       "       [[ 2000.  ,  2250.25],\n",
       "        [   40.  ,    40.  ],\n",
       "        [  365.  ,   365.  ],\n",
       "        [ 4201.  ,  4201.  ],\n",
       "        [ 5001.  ,  5001.  ],\n",
       "        [16600.  , 16600.  ]],\n",
       "\n",
       "       [[ 1000.  ,  1000.  ],\n",
       "        [   40.  ,    40.  ],\n",
       "        [  365.  ,   365.  ],\n",
       "        [ 2080.  ,  2080.  ],\n",
       "        [ 3320.  ,  3320.  ],\n",
       "        [15600.  , 15600.  ]],\n",
       "\n",
       "       [[ 2000.  ,  2000.  ],\n",
       "        [   40.  ,    40.  ],\n",
       "        [  365.  ,   365.  ],\n",
       "        [ 4601.  ,  4601.  ],\n",
       "        [ 4601.  ,  4601.  ],\n",
       "        [16600.  , 16600.  ]]])"
      ]
     },
     "execution_count": 77,
     "metadata": {},
     "output_type": "execute_result"
    }
   ],
   "source": [
    "#Depth stack (creates a 3-d stack)\n",
    "np.dstack((lending_co_numeric,lending_co_numeric_NAN))"
   ]
  },
  {
   "cell_type": "code",
   "execution_count": 81,
   "id": "22096568-303a-4d99-995d-6b1a7a103286",
   "metadata": {},
   "outputs": [
    {
     "data": {
      "text/plain": [
       "(1043, 6, 2)"
      ]
     },
     "execution_count": 81,
     "metadata": {},
     "output_type": "execute_result"
    }
   ],
   "source": [
    "#This means that we have 1043 6 by 2 arrays for each row of both the datasets\n",
    "#The first index 1043 denotes the total no of the arrays , the second index 6 denotes 6 rows and the thrid index the two cols\n",
    "#These indices can be used to access any value from these arrays \n",
    "np.dstack((lending_co_numeric,lending_co_numeric_NAN)).shape"
   ]
  },
  {
   "cell_type": "code",
   "execution_count": 83,
   "id": "5c17101e-c220-40bf-ab7f-6f4964661e4a",
   "metadata": {},
   "outputs": [
    {
     "data": {
      "text/plain": [
       "array([[ 2000.,  2000.],\n",
       "       [   40.,    40.],\n",
       "       [  365.,   365.],\n",
       "       [ 3121.,  3121.],\n",
       "       [ 4241.,  4241.],\n",
       "       [13621., 13621.]])"
      ]
     },
     "execution_count": 83,
     "metadata": {},
     "output_type": "execute_result"
    }
   ],
   "source": [
    "#displays the first row of both array\n",
    "np.dstack((lending_co_numeric,lending_co_numeric_NAN))[0]"
   ]
  },
  {
   "cell_type": "code",
   "execution_count": 85,
   "id": "0cd33098-c0ea-46af-9333-bf41b410be19",
   "metadata": {},
   "outputs": [
    {
     "data": {
      "text/plain": [
       "array([[2000.  , 2000.  ],\n",
       "       [2000.  , 2000.  ],\n",
       "       [1000.  , 1000.  ],\n",
       "       ...,\n",
       "       [2000.  , 2250.25],\n",
       "       [1000.  , 1000.  ],\n",
       "       [2000.  , 2000.  ]])"
      ]
     },
     "execution_count": 85,
     "metadata": {},
     "output_type": "execute_result"
    }
   ],
   "source": [
    "#displays the first col of both arrays\n",
    "np.dstack((lending_co_numeric,lending_co_numeric_NAN))[:,0]"
   ]
  },
  {
   "cell_type": "code",
   "execution_count": 89,
   "id": "b4494052-84e7-410d-8b45-45b02972d51e",
   "metadata": {},
   "outputs": [
    {
     "data": {
      "text/plain": [
       "array([ 2000.,    40.,   365.,  3121.,  4241., 13621.])"
      ]
     },
     "execution_count": 89,
     "metadata": {},
     "output_type": "execute_result"
    }
   ],
   "source": [
    "#displayed all values of the first dataset lending_co_numeric\n",
    "np.dstack((lending_co_numeric,lending_co_numeric_NAN))[0,:,0]"
   ]
  },
  {
   "cell_type": "code",
   "execution_count": 95,
   "id": "6998f398-10b9-4651-9760-d5adef0b9764",
   "metadata": {},
   "outputs": [],
   "source": [
    "#Stack always gives a higher dimension output for its input \n",
    "#The outputs for stack and dstack are equivalent for 1 and 2 d arrays\n",
    "array_ex=np.array([[[1,2,3],[4,5,6],[6,3,2]],[[2,3,5],[7,1,3],[6,2,7]]])\n",
    "array_ex2=array_ex*2"
   ]
  },
  {
   "cell_type": "code",
   "execution_count": 109,
   "id": "c6391f76-5493-4484-89b4-a2632ba98c28",
   "metadata": {},
   "outputs": [
    {
     "data": {
      "text/plain": [
       "(2, 3, 6)"
      ]
     },
     "execution_count": 109,
     "metadata": {},
     "output_type": "execute_result"
    }
   ],
   "source": [
    "#For a 3-d array dstack returns a 3d array\n",
    "np.dstack((array_ex,array_ex2)).shape\n"
   ]
  },
  {
   "cell_type": "code",
   "execution_count": 107,
   "id": "cf23ad93-2f39-43ec-9ded-bdc3ab78ecb0",
   "metadata": {},
   "outputs": [
    {
     "data": {
      "text/plain": [
       "(2, 3, 3, 2)"
      ]
     },
     "execution_count": 107,
     "metadata": {},
     "output_type": "execute_result"
    }
   ],
   "source": [
    "# For a 3-d array stack returns a 4d array\n",
    "np.stack((array_ex,array_ex2),axis=-1).shape"
   ]
  },
  {
   "cell_type": "code",
   "execution_count": null,
   "id": "9d86eb9e-30a4-4e22-bef6-461bae2bbe52",
   "metadata": {},
   "outputs": [],
   "source": []
  }
 ],
 "metadata": {
  "kernelspec": {
   "display_name": "Python 3 (ipykernel)",
   "language": "python",
   "name": "python3"
  },
  "language_info": {
   "codemirror_mode": {
    "name": "ipython",
    "version": 3
   },
   "file_extension": ".py",
   "mimetype": "text/x-python",
   "name": "python",
   "nbconvert_exporter": "python",
   "pygments_lexer": "ipython3",
   "version": "3.12.3"
  }
 },
 "nbformat": 4,
 "nbformat_minor": 5
}
