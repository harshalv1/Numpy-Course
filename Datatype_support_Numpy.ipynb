{
 "cells": [
  {
   "cell_type": "code",
   "execution_count": 1,
   "id": "c0b98bf0-d0e9-4d64-827d-e57ca7c8c228",
   "metadata": {},
   "outputs": [],
   "source": [
    "import numpy as np\n"
   ]
  },
  {
   "cell_type": "code",
   "execution_count": 5,
   "id": "7f80007d-b403-47c0-88b2-8d5e6b270aa2",
   "metadata": {},
   "outputs": [
    {
     "name": "stdout",
     "output_type": "stream",
     "text": [
      "[[1 2 3]\n",
      " [4 5 6]]\n"
     ]
    }
   ],
   "source": [
    "array_1=np.array([[1,2,3],[4,5,6]])\n",
    "print(array_1)"
   ]
  },
  {
   "cell_type": "code",
   "execution_count": 9,
   "id": "2729ea9c-c489-4c92-8e6a-063e9d75bd9b",
   "metadata": {},
   "outputs": [
    {
     "name": "stdout",
     "output_type": "stream",
     "text": [
      "[[1 2 3]\n",
      " [4 5 6]]\n"
     ]
    }
   ],
   "source": [
    "array_1=np.array([[1,2,3],[4,5,6]],dtype='int64')\n",
    "print(array_1)"
   ]
  },
  {
   "cell_type": "code",
   "execution_count": 11,
   "id": "a856f0a2-8d4b-4b46-ba65-2eb84400b193",
   "metadata": {},
   "outputs": [
    {
     "name": "stdout",
     "output_type": "stream",
     "text": [
      "[[1. 2. 3.]\n",
      " [4. 5. 6.]]\n"
     ]
    }
   ],
   "source": [
    "array_1=np.array([[1,2,3],[4,5,6]],dtype='float64')\n",
    "print(array_1)"
   ]
  },
  {
   "cell_type": "code",
   "execution_count": 13,
   "id": "596aa47f-b4d3-4a44-b5d9-f898b725bf7a",
   "metadata": {},
   "outputs": [
    {
     "name": "stdout",
     "output_type": "stream",
     "text": [
      "[[1.+0.j 2.+0.j 3.+0.j]\n",
      " [4.+0.j 5.+0.j 6.+0.j]]\n"
     ]
    }
   ],
   "source": [
    "array_1=np.array([[1,2,3],[4,5,6]],dtype='complex128')\n",
    "print(array_1)"
   ]
  },
  {
   "cell_type": "code",
   "execution_count": 15,
   "id": "78b5261f-612d-44da-9fc6-1143fd2d15d4",
   "metadata": {},
   "outputs": [
    {
     "name": "stdout",
     "output_type": "stream",
     "text": [
      "[['1' '2' '3']\n",
      " ['4' '5' '6']]\n"
     ]
    }
   ],
   "source": [
    "array_1=np.array([[1,2,3],[4,5,6]],dtype='str')\n",
    "print(array_1)"
   ]
  },
  {
   "cell_type": "code",
   "execution_count": null,
   "id": "6e3d0eea-a2f2-4331-b3ea-8a5e00ee4c3c",
   "metadata": {},
   "outputs": [],
   "source": []
  }
 ],
 "metadata": {
  "kernelspec": {
   "display_name": "Python 3 (ipykernel)",
   "language": "python",
   "name": "python3"
  },
  "language_info": {
   "codemirror_mode": {
    "name": "ipython",
    "version": 3
   },
   "file_extension": ".py",
   "mimetype": "text/x-python",
   "name": "python",
   "nbconvert_exporter": "python",
   "pygments_lexer": "ipython3",
   "version": "3.12.3"
  }
 },
 "nbformat": 4,
 "nbformat_minor": 5
}
