{
 "cells": [
  {
   "cell_type": "markdown",
   "metadata": {},
   "source": [
    "## Importing Data with NumPy"
   ]
  },
  {
   "cell_type": "markdown",
   "metadata": {},
   "source": [
    "### 1. Run the following cells:"
   ]
  },
  {
   "cell_type": "code",
   "execution_count": 1,
   "metadata": {},
   "outputs": [],
   "source": [
    "import numpy as np"
   ]
  },
  {
   "cell_type": "code",
   "execution_count": 3,
   "metadata": {},
   "outputs": [
    {
     "data": {
      "text/plain": [
       "<Token var=<ContextVar name='format_options' default={'edgeitems': 3, 'threshold': 1000, 'floatmode': 'maxprec', 'precision': 8, 'suppress': False, 'linewidth': 75, 'nanstr': 'nan', 'infstr': 'inf', 'sign': '-', 'formatter': None, 'legacy': 9223372036854775807, 'override_repr': None} at 0x108556b10> at 0x10fb573c0>"
      ]
     },
     "execution_count": 3,
     "metadata": {},
     "output_type": "execute_result"
    }
   ],
   "source": [
    "np.set_printoptions(suppress = True, linewidth = 150)"
   ]
  },
  {
   "cell_type": "markdown",
   "metadata": {},
   "source": [
    "### 2. Use loadtxt() to import the \"Lending-Company-Total-Price.csv\" file and display its contents. \n",
    "   <b> Hint:</b> By default np.loadtxt() asusmes all the values will be numeric, so it crashes when it encounters text data. We can bypass this by specifying the datatype to NumPy strings when importing. "
   ]
  },
  {
   "cell_type": "code",
   "execution_count": 7,
   "metadata": {},
   "outputs": [],
   "source": [
    "lending_co_data=np.loadtxt('Lending-co-LT.csv',delimiter=',',dtype=str)"
   ]
  },
  {
   "cell_type": "code",
   "execution_count": 9,
   "metadata": {},
   "outputs": [
    {
     "name": "stdout",
     "output_type": "stream",
     "text": [
      "[['LoanID' 'StringID' 'Product' ... 'Location' 'Region' 'TotalPrice']\n",
      " ['1' 'id_1' 'Product B' ... 'Location 2' 'Region 2' '16600.0']\n",
      " ['2' 'id_2' 'Product B' ... 'Location 3' '' '16600.0']\n",
      " ...\n",
      " ['1041' 'id_1041' 'Product B' ... 'Location 23' 'Region 4' '16600.0']\n",
      " ['1042' 'id_1042' 'Product C' ... 'Location 52' 'Region 6' '15600.0']\n",
      " ['1043' 'id_1043' 'Product B' ... 'Location 142' 'Region 6' '16600.0']]\n"
     ]
    }
   ],
   "source": [
    "print(lending_co_data)"
   ]
  },
  {
   "cell_type": "markdown",
   "metadata": {},
   "source": [
    "### 3. Use np.genfromtxt() to import the same file and display its contents.\n",
    "    You can open the file in a text editor like Notepad++ to check its delimiter. "
   ]
  },
  {
   "cell_type": "code",
   "execution_count": 13,
   "metadata": {},
   "outputs": [],
   "source": [
    "lending_co_data_2=np.genfromtxt('Lending-co-LT.csv',delimiter=',')"
   ]
  },
  {
   "cell_type": "code",
   "execution_count": 15,
   "metadata": {},
   "outputs": [
    {
     "name": "stdout",
     "output_type": "stream",
     "text": [
      "[[   nan    nan    nan ...    nan    nan    nan]\n",
      " [    1.    nan    nan ...    nan    nan 16600.]\n",
      " [    2.    nan    nan ...    nan    nan 16600.]\n",
      " ...\n",
      " [ 1041.    nan    nan ...    nan    nan 16600.]\n",
      " [ 1042.    nan    nan ...    nan    nan 15600.]\n",
      " [ 1043.    nan    nan ...    nan    nan 16600.]]\n"
     ]
    }
   ],
   "source": [
    "print(lending_co_data_2)"
   ]
  },
  {
   "cell_type": "markdown",
   "metadata": {},
   "source": [
    "### 4. Using the arguments of the np.genfromtxt() function, do the following data cleaning:\n",
    "    A) Set the data type to strings. \n",
    "    B) Skip the first row of the dataset. \n",
    "    C) Skip the last 15 rows of the dataset. \n",
    "    D) Only pull data from the 2nd, 3rd and 5th columns. \n",
    "   (Note: You can do all of these at the same time.)"
   ]
  },
  {
   "cell_type": "code",
   "execution_count": 59,
   "metadata": {},
   "outputs": [
    {
     "name": "stdout",
     "output_type": "stream",
     "text": [
      "[['id_1' 'Product B' 'Location 2']\n",
      " ['id_2' 'Product B' 'Location 3']\n",
      " ['id_3' 'Product C' 'Location 5']\n",
      " ...\n",
      " ['id_1026' 'Product C' 'Location 203']\n",
      " ['id_1027' 'Product B' 'Location 6']\n",
      " ['id_1028' 'Product D' 'Location 265']]\n"
     ]
    }
   ],
   "source": [
    "lending_data=np.genfromtxt('Lending-co-LT.csv',delimiter=',',dtype=str,skip_header=1,skip_footer=15,usecols=(1,2,4))\n",
    "print(lending_data)"
   ]
  },
  {
   "cell_type": "markdown",
   "metadata": {},
   "source": [
    "### 5. Refer to the documentation of the np.genfromtxt() function and examine the following arguments and what they do:\n",
    "    A) comments\n",
    "    B) converters \n",
    "    C) missing_values\n",
    "    D) excludelist\n",
    "    E) deletechars\n",
    "    D) replace_space \n",
    "    E) autostrip\n",
    "   (You're <b>not</b> expected to provide any coding for this part. The cell below is provided for your convenience in case you want to try using the arguments as you go through them.)"
   ]
  },
  {
   "cell_type": "code",
   "execution_count": null,
   "metadata": {},
   "outputs": [],
   "source": []
  },
  {
   "cell_type": "markdown",
   "metadata": {},
   "source": [
    "### 6. Now that you understand what these arguments do, add them to the code you wrote a few cells ago. \n",
    "    A) comments\n",
    "    B) converters \n",
    "    C) missing_values\n",
    "    D) excludelist\n",
    "    E) deletechars\n",
    "    D) replace_space \n",
    "    E) autostrip\n",
    "   <b>Note</b>: If you don't know what values to set, just refer to the documentation and set the defaults. "
   ]
  },
  {
   "cell_type": "code",
   "execution_count": null,
   "metadata": {},
   "outputs": [],
   "source": []
  },
  {
   "cell_type": "markdown",
   "metadata": {},
   "source": [
    "### 7. The first and last columns were the only ones with numeric data, so let's import only them."
   ]
  },
  {
   "cell_type": "code",
   "execution_count": 63,
   "metadata": {},
   "outputs": [
    {
     "name": "stdout",
     "output_type": "stream",
     "text": [
      "[['1' '16600.0']\n",
      " ['2' '16600.0']\n",
      " ['3' '15600.0']\n",
      " ...\n",
      " ['1026' '15600.0']\n",
      " ['1027' '16600.0']\n",
      " ['1028' '20250.0']]\n"
     ]
    }
   ],
   "source": [
    "lending_data_first_last=np.genfromtxt('Lending-co-LT.csv',delimiter=',',dtype=str,skip_header=1,skip_footer=15,usecols=(0,-1))\n",
    "print(lending_data_first_last)"
   ]
  },
  {
   "cell_type": "markdown",
   "metadata": {},
   "source": [
    "### 8. Alright, now that the data we're using only contains numbers, let's see how the inputs change if we change the datatype argument to:\n",
    "    A) The default (not specify it)\n",
    "    B) 32-bit integers (np.int32)\n",
    "    C) 32-bit floats (np.float32)\n",
    "    D) 64-bit complex numbers (np.complex64)\n",
    "    E) Unicode (np.unicode)\n",
    "    F) Objects (np.object)\n",
    "    G) None"
   ]
  },
  {
   "cell_type": "code",
   "execution_count": 71,
   "metadata": {},
   "outputs": [
    {
     "ename": "NameError",
     "evalue": "name 'unicode' is not defined",
     "output_type": "error",
     "traceback": [
      "\u001b[0;31m---------------------------------------------------------------------------\u001b[0m",
      "\u001b[0;31mNameError\u001b[0m                                 Traceback (most recent call last)",
      "Cell \u001b[0;32mIn[71], line 1\u001b[0m\n\u001b[0;32m----> 1\u001b[0m lending_data_first_last\u001b[38;5;241m=\u001b[39mnp\u001b[38;5;241m.\u001b[39mgenfromtxt(\u001b[38;5;124m'\u001b[39m\u001b[38;5;124mLending-co-LT.csv\u001b[39m\u001b[38;5;124m'\u001b[39m,delimiter\u001b[38;5;241m=\u001b[39m\u001b[38;5;124m'\u001b[39m\u001b[38;5;124m,\u001b[39m\u001b[38;5;124m'\u001b[39m,dtype\u001b[38;5;241m=\u001b[39municode,skip_header\u001b[38;5;241m=\u001b[39m\u001b[38;5;241m1\u001b[39m,skip_footer\u001b[38;5;241m=\u001b[39m\u001b[38;5;241m15\u001b[39m,usecols\u001b[38;5;241m=\u001b[39m(\u001b[38;5;241m0\u001b[39m,\u001b[38;5;241m-\u001b[39m\u001b[38;5;241m1\u001b[39m))\n\u001b[1;32m      2\u001b[0m \u001b[38;5;28mprint\u001b[39m(lending_data_first_last)\n",
      "\u001b[0;31mNameError\u001b[0m: name 'unicode' is not defined"
     ]
    }
   ],
   "source": [
    "lending_data_first_last=np.genfromtxt('Lending-co-LT.csv',delimiter=',',dtype=np.unicode,skip_header=1,skip_footer=15,usecols=(0,-1))\n",
    "print(lending_data_first_last)\n"
   ]
  },
  {
   "cell_type": "markdown",
   "metadata": {},
   "source": [
    "### 9. Setting the datatype to <i>None </i> means the function automatically chooses the datatype for each column of the text file, so let's see how this works for all the columns."
   ]
  },
  {
   "cell_type": "code",
   "execution_count": 53,
   "metadata": {},
   "outputs": [
    {
     "name": "stdout",
     "output_type": "stream",
     "text": [
      "[   1.    2.    3. ... 1026. 1027. 1028.] [16600. 16600. 15600. ... 15600. 16600. 20250.]\n"
     ]
    }
   ],
   "source": [
    "col_1_data,col_last_data=np.genfromtxt('Lending-co-LT.csv',delimiter=',',skip_header=1,skip_footer=15,usecols=(0,-1),unpack=True)\n",
    "print(col_1_data,col_last_data)\n"
   ]
  }
 ],
 "metadata": {
  "kernelspec": {
   "display_name": "Python 3 (ipykernel)",
   "language": "python",
   "name": "python3"
  },
  "language_info": {
   "codemirror_mode": {
    "name": "ipython",
    "version": 3
   },
   "file_extension": ".py",
   "mimetype": "text/x-python",
   "name": "python",
   "nbconvert_exporter": "python",
   "pygments_lexer": "ipython3",
   "version": "3.12.3"
  }
 },
 "nbformat": 4,
 "nbformat_minor": 4
}
