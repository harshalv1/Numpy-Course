{
 "cells": [
  {
   "cell_type": "code",
   "execution_count": 1,
   "id": "43c29d00-ac13-497f-bc84-18f3b0e11df8",
   "metadata": {},
   "outputs": [],
   "source": [
    "import numpy as np"
   ]
  },
  {
   "cell_type": "code",
   "execution_count": 3,
   "id": "be38773c-4444-4835-9737-1145ff2bb0ab",
   "metadata": {},
   "outputs": [
    {
     "data": {
      "text/plain": [
       "array([1, 2, 3])"
      ]
     },
     "execution_count": 3,
     "metadata": {},
     "output_type": "execute_result"
    }
   ],
   "source": [
    "array_a=np.array([1,2,3])\n",
    "array_a"
   ]
  },
  {
   "cell_type": "code",
   "execution_count": 5,
   "id": "4d35c4ae-346e-4c4b-b681-032a7e4a9899",
   "metadata": {},
   "outputs": [
    {
     "data": {
      "text/plain": [
       "array([[1],\n",
       "       [2]])"
      ]
     },
     "execution_count": 5,
     "metadata": {},
     "output_type": "execute_result"
    }
   ],
   "source": [
    "array_b=np.array([[1],[2]])\n",
    "array_b"
   ]
  },
  {
   "cell_type": "code",
   "execution_count": 9,
   "id": "d81648d4-3f1f-47f8-a9b0-fe65a2e3a70e",
   "metadata": {},
   "outputs": [
    {
     "data": {
      "text/plain": [
       "array([[1, 2, 3],\n",
       "       [4, 5, 6]])"
      ]
     },
     "execution_count": 9,
     "metadata": {},
     "output_type": "execute_result"
    }
   ],
   "source": [
    "matrix_c=np.array([[1,2,3],[4,5,6]])\n",
    "matrix_c"
   ]
  },
  {
   "cell_type": "code",
   "execution_count": 15,
   "id": "79a76bee-6704-4e72-8b88-d9387b957a73",
   "metadata": {},
   "outputs": [
    {
     "name": "stdout",
     "output_type": "stream",
     "text": [
      "[[2 4 6]\n",
      " [5 7 9]]\n"
     ]
    }
   ],
   "source": [
    "#BroadCasting\n",
    "print(np.add(array_a,matrix_c))"
   ]
  },
  {
   "cell_type": "code",
   "execution_count": 17,
   "id": "7da61eeb-4df7-4858-9f5e-f5bfae259f8d",
   "metadata": {},
   "outputs": [
    {
     "name": "stdout",
     "output_type": "stream",
     "text": [
      "[[2 3 4]\n",
      " [6 7 8]]\n"
     ]
    }
   ],
   "source": [
    "print(np.add(array_b,matrix_c))"
   ]
  },
  {
   "cell_type": "code",
   "execution_count": 23,
   "id": "c76a71b1-c120-4ee5-9e29-b4b6cfee35b2",
   "metadata": {},
   "outputs": [
    {
     "data": {
      "text/plain": [
       "array([['11', '22', '33'],\n",
       "       ['14', '25', '36']], dtype='<U42')"
      ]
     },
     "execution_count": 23,
     "metadata": {},
     "output_type": "execute_result"
    }
   ],
   "source": [
    "#TypeCasting\n",
    "np.add(array_a,matrix_c,dtype='str')\n"
   ]
  },
  {
   "cell_type": "code",
   "execution_count": 27,
   "id": "bd0641a8-1224-4003-8c42-291c6fc0aa35",
   "metadata": {},
   "outputs": [
    {
     "name": "stdout",
     "output_type": "stream",
     "text": [
      "[2.5 3.5 4.5]\n"
     ]
    }
   ],
   "source": [
    "#Running over an axis , axis=0 is used for finding mean along the column\n",
    "print(np.mean(matrix_c,axis=0)) "
   ]
  },
  {
   "cell_type": "code",
   "execution_count": 29,
   "id": "fe9de96d-8caf-418b-ad86-4dab19851343",
   "metadata": {},
   "outputs": [
    {
     "name": "stdout",
     "output_type": "stream",
     "text": [
      "[2. 5.]\n"
     ]
    }
   ],
   "source": [
    "#axis=1 is used for finding, axis=1 is used for finding mean along the row\n",
    "print(np.mean(matrix_c,axis=1))"
   ]
  },
  {
   "cell_type": "code",
   "execution_count": null,
   "id": "dae63729-c404-415d-baa6-85735a97243f",
   "metadata": {},
   "outputs": [],
   "source": []
  }
 ],
 "metadata": {
  "kernelspec": {
   "display_name": "Python 3 (ipykernel)",
   "language": "python",
   "name": "python3"
  },
  "language_info": {
   "codemirror_mode": {
    "name": "ipython",
    "version": 3
   },
   "file_extension": ".py",
   "mimetype": "text/x-python",
   "name": "python",
   "nbconvert_exporter": "python",
   "pygments_lexer": "ipython3",
   "version": "3.12.3"
  }
 },
 "nbformat": 4,
 "nbformat_minor": 5
}
