{
 "cells": [
  {
   "cell_type": "code",
   "execution_count": 1,
   "id": "9f086aa1-9d68-4943-8afa-4b04b82c1722",
   "metadata": {},
   "outputs": [],
   "source": [
    "import numpy as np"
   ]
  },
  {
   "cell_type": "code",
   "execution_count": 3,
   "id": "8f944d96-10d3-47ad-b33e-4a64df08f177",
   "metadata": {},
   "outputs": [
    {
     "data": {
      "text/plain": [
       "array([[1, 0, 0, 3, 1],\n",
       "       [3, 6, 6, 2, 9],\n",
       "       [4, 5, 3, 8, 0]])"
      ]
     },
     "execution_count": 3,
     "metadata": {},
     "output_type": "execute_result"
    }
   ],
   "source": [
    "matrix_A=np.array([[1,0,0,3,1],[3,6,6,2,9],[4,5,3,8,0]])\n",
    "matrix_A"
   ]
  },
  {
   "cell_type": "code",
   "execution_count": 5,
   "id": "797503f1-26ae-40a7-b03f-67476256857a",
   "metadata": {},
   "outputs": [
    {
     "data": {
      "text/plain": [
       "np.int64(0)"
      ]
     },
     "execution_count": 5,
     "metadata": {},
     "output_type": "execute_result"
    }
   ],
   "source": [
    "np.min(matrix_A)"
   ]
  },
  {
   "cell_type": "code",
   "execution_count": 9,
   "id": "70da13c6-df00-4013-8d13-ef8c3c9f6bcd",
   "metadata": {},
   "outputs": [
    {
     "data": {
      "text/plain": [
       "np.int64(2)"
      ]
     },
     "execution_count": 9,
     "metadata": {},
     "output_type": "execute_result"
    }
   ],
   "source": [
    "np.min(matrix_A[1])"
   ]
  },
  {
   "cell_type": "code",
   "execution_count": 13,
   "id": "1d27d10c-416c-4e03-bba0-c22b327c9e7a",
   "metadata": {},
   "outputs": [
    {
     "data": {
      "text/plain": [
       "np.int64(0)"
      ]
     },
     "execution_count": 13,
     "metadata": {},
     "output_type": "execute_result"
    }
   ],
   "source": [
    "#Exactly same as the min function\n",
    "np.amin(matrix_A)"
   ]
  },
  {
   "cell_type": "code",
   "execution_count": 15,
   "id": "be1b481e-80ea-4740-9876-57134617a0cf",
   "metadata": {},
   "outputs": [
    {
     "data": {
      "text/plain": [
       "array([1, 0, 0, 2, 1])"
      ]
     },
     "execution_count": 15,
     "metadata": {},
     "output_type": "execute_result"
    }
   ],
   "source": [
    "#Returns the arrays of the minimum values between 1st and 2nd row\n",
    "np.minimum(matrix_A[0],matrix_A[1])"
   ]
  },
  {
   "cell_type": "code",
   "execution_count": 17,
   "id": "ae1a11a6-69a6-4960-869e-1c6b3ab97543",
   "metadata": {},
   "outputs": [
    {
     "data": {
      "text/plain": [
       "array([1, 0, 0, 2, 0])"
      ]
     },
     "execution_count": 17,
     "metadata": {},
     "output_type": "execute_result"
    }
   ],
   "source": [
    "#when we are using reduce we are essentially passing all the rows as the arguements the minimum value of the each corresponding position of every column will be returned as an array.\n",
    "np.minimum.reduce(matrix_A)"
   ]
  },
  {
   "cell_type": "code",
   "execution_count": 21,
   "id": "58736944-7c3c-4403-899e-2e75dce40309",
   "metadata": {},
   "outputs": [
    {
     "data": {
      "text/plain": [
       "array([1, 0, 0, 2, 0])"
      ]
     },
     "execution_count": 21,
     "metadata": {},
     "output_type": "execute_result"
    }
   ],
   "source": [
    "np.min(matrix_A,axis=0)"
   ]
  },
  {
   "cell_type": "code",
   "execution_count": null,
   "id": "b003a7f8-567d-4871-b68d-90be07219929",
   "metadata": {},
   "outputs": [],
   "source": []
  }
 ],
 "metadata": {
  "kernelspec": {
   "display_name": "Python 3 (ipykernel)",
   "language": "python",
   "name": "python3"
  },
  "language_info": {
   "codemirror_mode": {
    "name": "ipython",
    "version": 3
   },
   "file_extension": ".py",
   "mimetype": "text/x-python",
   "name": "python",
   "nbconvert_exporter": "python",
   "pygments_lexer": "ipython3",
   "version": "3.12.3"
  }
 },
 "nbformat": 4,
 "nbformat_minor": 5
}
