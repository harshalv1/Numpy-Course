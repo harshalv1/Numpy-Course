{
 "cells": [
  {
   "cell_type": "code",
   "execution_count": 1,
   "id": "c5dccf1b-6f51-4524-8bb8-ae0d2602e911",
   "metadata": {},
   "outputs": [],
   "source": [
    "import numpy as np"
   ]
  },
  {
   "cell_type": "code",
   "execution_count": 3,
   "id": "f3fc80b5-8951-4fd2-8a5b-6da10a183e1c",
   "metadata": {},
   "outputs": [
    {
     "data": {
      "text/plain": [
       "array([[ 2000.,    40.,   365.,  3121.,  4241., 13621.],\n",
       "       [ 2000.,    40.,   365.,  3061.,  4171., 15041.],\n",
       "       [ 1000.,    40.,   365.,  2160.,  3280., 15340.],\n",
       "       ...,\n",
       "       [   nan,    40.,   365.,  4201.,  5001., 16600.],\n",
       "       [ 1000.,    40.,   365.,  2080.,  3320., 15600.],\n",
       "       [ 2000.,    40.,   365.,  4601.,  4601., 16600.]])"
      ]
     },
     "execution_count": 3,
     "metadata": {},
     "output_type": "execute_result"
    }
   ],
   "source": [
    "lending_co_data_NAN=np.genfromtxt('Lending-Company-Numeric-Data-NAN.csv',delimiter=';')\n",
    "lending_co_data_NAN"
   ]
  },
  {
   "cell_type": "code",
   "execution_count": 7,
   "id": "748ad687-1712-476a-9e99-4a4f7f4b8fd9",
   "metadata": {},
   "outputs": [
    {
     "data": {
      "text/plain": [
       "array([[ 1000.,    40.,   365.,  2160.,  3280., 15340.],\n",
       "       [ 2000.,    40.,   365.,  3041.,  4241., 15321.],\n",
       "       [ 2000.,    50.,   365.,  3470.,  4820., 13720.],\n",
       "       ...,\n",
       "       [   nan,    40.,   365.,  4201.,  5001., 16600.],\n",
       "       [ 1000.,    40.,   365.,  2080.,  3320., 15600.],\n",
       "       [ 2000.,    40.,   365.,  4601.,  4601., 16600.]])"
      ]
     },
     "execution_count": 7,
     "metadata": {},
     "output_type": "execute_result"
    }
   ],
   "source": [
    "lending_co_data_NAN=np.genfromtxt('Lending-Company-Numeric-Data-NAN.csv',delimiter=';',skip_header=2)\n",
    "lending_co_data_NAN"
   ]
  },
  {
   "cell_type": "code",
   "execution_count": 9,
   "id": "2589d291-4041-415c-ae9b-aad144c0738d",
   "metadata": {},
   "outputs": [
    {
     "data": {
      "text/plain": [
       "array([[ 2000.,    40.,   365.,  3121.,  4241., 13621.],\n",
       "       [ 2000.,    40.,   365.,  3061.,  4171., 15041.],\n",
       "       [ 1000.,    40.,   365.,  2160.,  3280., 15340.],\n",
       "       ...,\n",
       "       [ 2000.,    40.,   365.,  3401.,    nan, 16600.],\n",
       "       [ 2000.,    40.,   365.,    nan,  5440., 16600.],\n",
       "       [   nan,    40.,   365.,  4201.,  5001., 16600.]])"
      ]
     },
     "execution_count": 9,
     "metadata": {},
     "output_type": "execute_result"
    }
   ],
   "source": [
    "lending_co_data_NAN=np.genfromtxt('Lending-Company-Numeric-Data-NAN.csv',delimiter=';',skip_footer=2)\n",
    "lending_co_data_NAN"
   ]
  },
  {
   "cell_type": "code",
   "execution_count": 13,
   "id": "2abc3154-48a1-47ce-a20c-b104ced66f82",
   "metadata": {},
   "outputs": [
    {
     "data": {
      "text/plain": [
       "array([2000., 2000., 1000., ...,   nan, 1000., 2000.])"
      ]
     },
     "execution_count": 13,
     "metadata": {},
     "output_type": "execute_result"
    }
   ],
   "source": [
    "lending_co_data_NAN=np.genfromtxt('Lending-Company-Numeric-Data-NAN.csv',delimiter=';',usecols=(0))\n",
    "lending_co_data_NAN"
   ]
  },
  {
   "cell_type": "code",
   "execution_count": 15,
   "id": "300fff0d-7646-4005-95bf-af5fbf7cfe96",
   "metadata": {},
   "outputs": [
    {
     "data": {
      "text/plain": [
       "array([[ 2000.,    40., 13621.],\n",
       "       [ 2000.,    40., 15041.],\n",
       "       [ 1000.,    40., 15340.],\n",
       "       ...,\n",
       "       [   nan,    40., 16600.],\n",
       "       [ 1000.,    40., 15600.],\n",
       "       [ 2000.,    40., 16600.]])"
      ]
     },
     "execution_count": 15,
     "metadata": {},
     "output_type": "execute_result"
    }
   ],
   "source": [
    "lending_co_data_NAN=np.genfromtxt('Lending-Company-Numeric-Data-NAN.csv',delimiter=';',usecols=(0,1,5))\n",
    "lending_co_data_NAN"
   ]
  },
  {
   "cell_type": "code",
   "execution_count": 31,
   "id": "c49a21f9-5bcc-44c5-b8c6-8a8dfe396d53",
   "metadata": {},
   "outputs": [
    {
     "name": "stdout",
     "output_type": "stream",
     "text": [
      "[2000. 2000. 1000. ...   nan 1000. 2000.]\n",
      "[40. 40. 40. ... 40. 40. 40.]\n",
      "[13621. 15041. 15340. ... 16600. 15600. 16600.]\n"
     ]
    }
   ],
   "source": [
    "lending_co_data_NAN1,lending_co_data_NAN2,lending_co_data_NAN6=np.genfromtxt('Lending-Company-Numeric-Data-NAN.csv',delimiter=';',usecols=(0,1,5),unpack=True)\n",
    "print(lending_co_data_NAN1)\n",
    "print(lending_co_data_NAN2)\n",
    "print(lending_co_data_NAN6)"
   ]
  },
  {
   "cell_type": "code",
   "execution_count": 33,
   "id": "c818bccf-b619-46cb-96c3-73ad8bfc9707",
   "metadata": {},
   "outputs": [],
   "source": [
    "lending_co_data_NAN6,lending_co_data_NAN2,lending_co_data_NAN1=np.genfromtxt('Lending-Company-Numeric-Data-NAN.csv',delimiter=';',usecols=(5,1,0),unpack=True)\n"
   ]
  },
  {
   "cell_type": "code",
   "execution_count": 35,
   "id": "8e30228b-4849-4ce4-a1d3-0d30198441d5",
   "metadata": {},
   "outputs": [
    {
     "name": "stdout",
     "output_type": "stream",
     "text": [
      "[13621. 15041. 15340. ... 16600. 15600. 16600.]\n",
      "[40. 40. 40. ... 40. 40. 40.]\n",
      "[2000. 2000. 1000. ...   nan 1000. 2000.]\n"
     ]
    }
   ],
   "source": [
    "print(lending_co_data_NAN6)\n",
    "print(lending_co_data_NAN2)\n",
    "print(lending_co_data_NAN1)"
   ]
  },
  {
   "cell_type": "code",
   "execution_count": null,
   "id": "f0872cd9-b5d5-4376-85ab-a01c40ce7e99",
   "metadata": {},
   "outputs": [],
   "source": []
  }
 ],
 "metadata": {
  "kernelspec": {
   "display_name": "Python 3 (ipykernel)",
   "language": "python",
   "name": "python3"
  },
  "language_info": {
   "codemirror_mode": {
    "name": "ipython",
    "version": 3
   },
   "file_extension": ".py",
   "mimetype": "text/x-python",
   "name": "python",
   "nbconvert_exporter": "python",
   "pygments_lexer": "ipython3",
   "version": "3.12.3"
  }
 },
 "nbformat": 4,
 "nbformat_minor": 5
}
