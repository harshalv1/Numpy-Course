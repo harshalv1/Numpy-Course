{
 "cells": [
  {
   "cell_type": "code",
   "execution_count": 11,
   "id": "dfb40d9d-8e0e-4c0b-9137-47a4c48debb3",
   "metadata": {},
   "outputs": [
    {
     "data": {
      "text/plain": [
       "array([[ 2000.,    40.,   365.,  3121.,  4241., 13621.],\n",
       "       [ 2000.,    40.,   365.,  3061.,  4171., 15041.],\n",
       "       [ 1000.,    40.,   365.,  2160.,  3280., 15340.],\n",
       "       [ 2000.,    40.,   365.,  3041.,  4241., 15321.],\n",
       "       [ 2000.,    50.,   365.,  3470.,  4820., 13720.],\n",
       "       [ 2000.,    40.,   365.,  3201.,  4141., 14141.],\n",
       "       [ 2000.,    50.,   365.,  1851.,  3251., 17701.],\n",
       "       [ 2000.,    40.,   365.,  3971.,  4131., 15351.]])"
      ]
     },
     "execution_count": 11,
     "metadata": {},
     "output_type": "execute_result"
    }
   ],
   "source": [
    "import numpy as np\n",
    "company_data_numeric=np.loadtxt(\"Lending-company-Numeric.csv\",delimiter=\",\")[:8]\n",
    "company_data_numeric"
   ]
  },
  {
   "cell_type": "code",
   "execution_count": 19,
   "id": "20be396d-a2e2-46de-932e-e4ffd0f12379",
   "metadata": {},
   "outputs": [],
   "source": [
    "#shuffles the data in place \n",
    "np.random.shuffle(company_data_numeric)"
   ]
  },
  {
   "cell_type": "code",
   "execution_count": 21,
   "id": "4d3c34d0-fdb8-4c81-bc2b-d33ee2041754",
   "metadata": {},
   "outputs": [
    {
     "data": {
      "text/plain": [
       "array([[ 2000.,    50.,   365.,  1851.,  3251., 17701.],\n",
       "       [ 2000.,    40.,   365.,  3121.,  4241., 13621.],\n",
       "       [ 2000.,    50.,   365.,  3470.,  4820., 13720.],\n",
       "       [ 2000.,    40.,   365.,  3061.,  4171., 15041.],\n",
       "       [ 1000.,    40.,   365.,  2160.,  3280., 15340.],\n",
       "       [ 2000.,    40.,   365.,  3971.,  4131., 15351.],\n",
       "       [ 2000.,    40.,   365.,  3041.,  4241., 15321.],\n",
       "       [ 2000.,    40.,   365.,  3201.,  4141., 14141.]])"
      ]
     },
     "execution_count": 21,
     "metadata": {},
     "output_type": "execute_result"
    }
   ],
   "source": [
    "company_data_numeric"
   ]
  },
  {
   "cell_type": "code",
   "execution_count": 23,
   "id": "210b1bac-5c4d-48b3-81ec-1a677e093acb",
   "metadata": {},
   "outputs": [
    {
     "data": {
      "text/plain": [
       "array([[ 2000.,    40.,   365.,  3121.,  4241., 13621.],\n",
       "       [ 2000.,    40.,   365.,  3061.,  4171., 15041.],\n",
       "       [ 1000.,    40.,   365.,  2160.,  3280., 15340.],\n",
       "       ...,\n",
       "       [ 2000.,    40.,   365.,  4201.,  5001., 16600.],\n",
       "       [ 1000.,    40.,   365.,  2080.,  3320., 15600.],\n",
       "       [ 2000.,    40.,   365.,  4601.,  4601., 16600.]])"
      ]
     },
     "execution_count": 23,
     "metadata": {},
     "output_type": "execute_result"
    }
   ],
   "source": [
    "import numpy as np\n",
    "company_data_numeric=np.loadtxt(\"Lending-company-Numeric.csv\",delimiter=\",\")\n",
    "company_data_numeric"
   ]
  },
  {
   "cell_type": "code",
   "execution_count": 25,
   "id": "65949621-50f9-43f2-a8fe-4c18c46cc2fe",
   "metadata": {},
   "outputs": [],
   "source": [
    "np.random.shuffle(company_data_numeric)"
   ]
  },
  {
   "cell_type": "code",
   "execution_count": 27,
   "id": "a8d8c4a4-8261-43ff-9b66-4e3670228efc",
   "metadata": {},
   "outputs": [
    {
     "data": {
      "text/plain": [
       "array([[ 1000.,    35.,   365.,  2250.,  3475.,  8065.],\n",
       "       [ 1000.,    40.,   365.,  2500.,  3580., 15600.],\n",
       "       [ 4000.,    50.,   365.,  6350.,  7050., 22250.],\n",
       "       ...,\n",
       "       [ 2000.,    40.,   365.,  2861.,  4361., 16600.],\n",
       "       [ 4000.,    50.,   365.,  5250.,  6650., 22250.],\n",
       "       [ 2000.,    40.,   365.,  3401.,  4321., 13121.]])"
      ]
     },
     "execution_count": 27,
     "metadata": {},
     "output_type": "execute_result"
    }
   ],
   "source": [
    "company_data_numeric"
   ]
  },
  {
   "cell_type": "code",
   "execution_count": 29,
   "id": "6f4757a6-4145-423a-bc2b-62f50cf8cb16",
   "metadata": {},
   "outputs": [],
   "source": [
    "from numpy.random import shuffle"
   ]
  },
  {
   "cell_type": "code",
   "execution_count": 31,
   "id": "f4dfbb0e-7f3d-4407-8147-431ad6a17aaa",
   "metadata": {},
   "outputs": [],
   "source": [
    "shuffle(company_data_numeric)"
   ]
  },
  {
   "cell_type": "code",
   "execution_count": 33,
   "id": "975d538d-29cc-4009-a04e-1b8312672fb6",
   "metadata": {},
   "outputs": [
    {
     "data": {
      "text/plain": [
       "array([[ 1000.,    40.,   365.,  3100.,  3700., 12720.],\n",
       "       [ 2000.,    50.,   365.,  3501.,  4651., 16348.],\n",
       "       [ 2000.,    40.,   365.,  3561.,  5253., 16323.],\n",
       "       ...,\n",
       "       [ 1000.,    50.,   365., -2450., -2000.,  1500.],\n",
       "       [ 4000.,    50.,   365.,  6250.,  7250., 22250.],\n",
       "       [ 2000.,    40.,   365.,  3501.,  5001., 16371.]])"
      ]
     },
     "execution_count": 33,
     "metadata": {},
     "output_type": "execute_result"
    }
   ],
   "source": [
    "company_data_numeric"
   ]
  },
  {
   "cell_type": "code",
   "execution_count": 35,
   "id": "9555fd1e-c56f-4196-aad8-4c7aed5cc6bf",
   "metadata": {},
   "outputs": [],
   "source": [
    "from numpy.random import Generator as gen\n",
    "from numpy.random import PCG64 as pcg"
   ]
  },
  {
   "cell_type": "code",
   "execution_count": 49,
   "id": "79bc4997-9b6d-4998-b425-c24f18edbbc8",
   "metadata": {},
   "outputs": [
    {
     "data": {
      "text/plain": [
       "array([[ 2000.,    40.,   365.,  4600.,  5800., 16600.],\n",
       "       [ 2000.,    50.,   365.,  4501.,  7001., 20250.],\n",
       "       [ 4000.,    50.,   365.,  5600.,  6800., 18300.],\n",
       "       ...,\n",
       "       [ 4000.,    50.,   365.,  6000.,  8250., 21250.],\n",
       "       [ 1000.,    50.,   365.,   500.,  2200., 14950.],\n",
       "       [ 2000.,    40.,   365.,  3160.,  4480., 16380.]])"
      ]
     },
     "execution_count": 49,
     "metadata": {},
     "output_type": "execute_result"
    }
   ],
   "source": [
    "array_RG=gen(pcg())\n",
    "array_RG.shuffle(company_data_numeric)\n",
    "company_data_numeric"
   ]
  },
  {
   "cell_type": "code",
   "execution_count": null,
   "id": "a04a4904-69ad-4ff6-817c-c611ffaf1fd5",
   "metadata": {},
   "outputs": [],
   "source": []
  }
 ],
 "metadata": {
  "kernelspec": {
   "display_name": "Python 3 (ipykernel)",
   "language": "python",
   "name": "python3"
  },
  "language_info": {
   "codemirror_mode": {
    "name": "ipython",
    "version": 3
   },
   "file_extension": ".py",
   "mimetype": "text/x-python",
   "name": "python",
   "nbconvert_exporter": "python",
   "pygments_lexer": "ipython3",
   "version": "3.12.3"
  }
 },
 "nbformat": 4,
 "nbformat_minor": 5
}
