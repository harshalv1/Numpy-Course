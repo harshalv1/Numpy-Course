{
 "cells": [
  {
   "cell_type": "code",
   "execution_count": 1,
   "id": "58e58ee1-45b9-4aed-bdae-dee24858b7a3",
   "metadata": {},
   "outputs": [],
   "source": [
    "import numpy as np"
   ]
  },
  {
   "cell_type": "code",
   "execution_count": 3,
   "id": "a8989500-65dc-4e91-8819-99e95797251b",
   "metadata": {},
   "outputs": [
    {
     "name": "stdout",
     "output_type": "stream",
     "text": [
      "[['LoanID' 'StringID' 'Product' ... 'Location' 'Region' 'TotalPrice']\n",
      " ['1' 'id_1' 'Product B' ... 'Location 2' 'Region 2' '16600.0']\n",
      " ['2' 'id_2' 'Product B' ... 'Location 3' '' '16600.0']\n",
      " ...\n",
      " ['1041' 'id_1041' 'Product B' ... 'Location 23' 'Region 4' '16600.0']\n",
      " ['1042' 'id_1042' 'Product C' ... 'Location 52' 'Region 6' '15600.0']\n",
      " ['1043' 'id_1043' 'Product B' ... 'Location 142' 'Region 6' '16600.0']]\n"
     ]
    }
   ],
   "source": [
    "lending_co_data=np.genfromtxt('Lending-Company-Saving.csv',delimiter=',',dtype=str)\n",
    "print(lending_co_data)"
   ]
  },
  {
   "cell_type": "code",
   "execution_count": 13,
   "id": "cf09d466-6fba-408d-a0e7-c31f60351f27",
   "metadata": {},
   "outputs": [],
   "source": [
    "np.savetxt('Lending-Company-Saving.txt',lending_co_data,fmt='%s',delimiter=',')\n"
   ]
  },
  {
   "cell_type": "code",
   "execution_count": 15,
   "id": "f34f6a28-3d5f-44af-8492-1ad08c42ee33",
   "metadata": {},
   "outputs": [
    {
     "name": "stdout",
     "output_type": "stream",
     "text": [
      "[['LoanID' 'StringID' 'Product' ... 'Location' 'Region' 'TotalPrice']\n",
      " ['1' 'id_1' 'Product B' ... 'Location 2' 'Region 2' '16600.0']\n",
      " ['2' 'id_2' 'Product B' ... 'Location 3' '' '16600.0']\n",
      " ...\n",
      " ['1041' 'id_1041' 'Product B' ... 'Location 23' 'Region 4' '16600.0']\n",
      " ['1042' 'id_1042' 'Product C' ... 'Location 52' 'Region 6' '15600.0']\n",
      " ['1043' 'id_1043' 'Product B' ... 'Location 142' 'Region 6' '16600.0']]\n"
     ]
    }
   ],
   "source": [
    "#if we use savetxt() then we need to import the data instead of loading it\n",
    "txt_data=np.genfromtxt('Lending-Company-Saving.txt',delimiter=',',dtype=str)\n",
    "print(txt_data)"
   ]
  },
  {
   "cell_type": "code",
   "execution_count": 21,
   "id": "16e58f11-466b-4fec-9598-60eb9c3dfe1e",
   "metadata": {},
   "outputs": [],
   "source": [
    "lending_data_save=np.load('Lending-Company-Saving.npy')"
   ]
  },
  {
   "cell_type": "code",
   "execution_count": 25,
   "id": "feabadbf-28da-4e5d-b4c3-c2889ce465a3",
   "metadata": {},
   "outputs": [
    {
     "data": {
      "text/plain": [
       "True"
      ]
     },
     "execution_count": 25,
     "metadata": {},
     "output_type": "execute_result"
    }
   ],
   "source": [
    "np.array_equal(txt_data,lending_data_save)"
   ]
  }
 ],
 "metadata": {
  "kernelspec": {
   "display_name": "Python 3 (ipykernel)",
   "language": "python",
   "name": "python3"
  },
  "language_info": {
   "codemirror_mode": {
    "name": "ipython",
    "version": 3
   },
   "file_extension": ".py",
   "mimetype": "text/x-python",
   "name": "python",
   "nbconvert_exporter": "python",
   "pygments_lexer": "ipython3",
   "version": "3.12.3"
  }
 },
 "nbformat": 4,
 "nbformat_minor": 5
}
