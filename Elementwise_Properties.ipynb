{
 "cells": [
  {
   "cell_type": "code",
   "execution_count": 1,
   "id": "3d60e85c-5342-4d67-9263-1628a557c9c3",
   "metadata": {},
   "outputs": [],
   "source": [
    "import numpy as np"
   ]
  },
  {
   "cell_type": "code",
   "execution_count": 3,
   "id": "8b5dd4bd-0dda-4e2f-8b07-adc6fa76ca6a",
   "metadata": {},
   "outputs": [
    {
     "name": "stdout",
     "output_type": "stream",
     "text": [
      "[[1 2 3]\n",
      " [4 5 6]]\n"
     ]
    }
   ],
   "source": [
    "array_a=np.array([[1,2,3],[4,5,6]])\n",
    "print(array_a)\n"
   ]
  },
  {
   "cell_type": "code",
   "execution_count": 7,
   "id": "a5b02b51-e9c6-4ace-9181-7221fb413aed",
   "metadata": {},
   "outputs": [
    {
     "name": "stdout",
     "output_type": "stream",
     "text": [
      "[9 3 2]\n"
     ]
    }
   ],
   "source": [
    "array_b=np.array([9,3,2])\n",
    "print(array_b)"
   ]
  },
  {
   "cell_type": "code",
   "execution_count": 29,
   "id": "e9b33908-de5e-4d5b-99a3-879e76faff8e",
   "metadata": {},
   "outputs": [
    {
     "name": "stdout",
     "output_type": "stream",
     "text": [
      "[1, 2, 3, 1]\n"
     ]
    }
   ],
   "source": [
    "#addition of lists concatenate them as lists are used to store values\n",
    "list_1=[1,2,3]\n",
    "list2=[1]\n",
    "print(list_1+list2)"
   ]
  },
  {
   "cell_type": "code",
   "execution_count": 9,
   "id": "a9961e96-d615-4f84-8590-642e40e6cf79",
   "metadata": {},
   "outputs": [
    {
     "data": {
      "text/plain": [
       "array([[3, 4, 5],\n",
       "       [6, 7, 8]])"
      ]
     },
     "execution_count": 9,
     "metadata": {},
     "output_type": "execute_result"
    }
   ],
   "source": [
    "#Contrary to lists arrays are used to perform mathematical operations\n",
    "array_a+2"
   ]
  },
  {
   "cell_type": "code",
   "execution_count": 11,
   "id": "4ec5824b-0129-4300-9071-5a3241e3fa97",
   "metadata": {},
   "outputs": [
    {
     "data": {
      "text/plain": [
       "array([11,  5,  4])"
      ]
     },
     "execution_count": 11,
     "metadata": {},
     "output_type": "execute_result"
    }
   ],
   "source": [
    "array_b+2"
   ]
  },
  {
   "cell_type": "code",
   "execution_count": 19,
   "id": "3eb13da1-c574-445d-8ba6-4a72f6911043",
   "metadata": {},
   "outputs": [
    {
     "name": "stdout",
     "output_type": "stream",
     "text": [
      "[10  5  5]\n"
     ]
    }
   ],
   "source": [
    "print(array_b+array_a[0])\n"
   ]
  },
  {
   "cell_type": "code",
   "execution_count": 27,
   "id": "3b4cc8cd-cd4d-409d-9f9c-e6e750186be4",
   "metadata": {},
   "outputs": [
    {
     "name": "stdout",
     "output_type": "stream",
     "text": [
      "[13  8  8]\n"
     ]
    }
   ],
   "source": [
    "print(array_b+array_a[1])"
   ]
  },
  {
   "cell_type": "code",
   "execution_count": 17,
   "id": "1d23e9b1-7a6d-456e-9ee5-cd4a18bfc97a",
   "metadata": {},
   "outputs": [
    {
     "name": "stdout",
     "output_type": "stream",
     "text": [
      "[[10 11 12]\n",
      " [13 14 15]]\n"
     ]
    }
   ],
   "source": [
    "print(array_a+array_b[0])\n"
   ]
  },
  {
   "cell_type": "code",
   "execution_count": 21,
   "id": "42d92ac1-946a-416e-a845-bb95d665fcac",
   "metadata": {},
   "outputs": [
    {
     "name": "stdout",
     "output_type": "stream",
     "text": [
      "[[10  5  5]\n",
      " [13  8  8]]\n"
     ]
    }
   ],
   "source": [
    "print(array_a+array_b)"
   ]
  },
  {
   "cell_type": "code",
   "execution_count": null,
   "id": "6a1e85fd-8a7f-4b28-b0b6-f148fd2831e6",
   "metadata": {},
   "outputs": [],
   "source": []
  }
 ],
 "metadata": {
  "kernelspec": {
   "display_name": "Python 3 (ipykernel)",
   "language": "python",
   "name": "python3"
  },
  "language_info": {
   "codemirror_mode": {
    "name": "ipython",
    "version": 3
   },
   "file_extension": ".py",
   "mimetype": "text/x-python",
   "name": "python",
   "nbconvert_exporter": "python",
   "pygments_lexer": "ipython3",
   "version": "3.12.3"
  }
 },
 "nbformat": 4,
 "nbformat_minor": 5
}
